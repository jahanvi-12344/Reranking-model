{
 "cells": [
  {
   "cell_type": "code",
   "execution_count": 1,
   "id": "8a6284d3",
   "metadata": {},
   "outputs": [],
   "source": [
    "import json\n",
    "import pandas as pd\n",
    "import re\n",
    "import string \n",
    "from nltk.corpus import stopwords"
   ]
  },
  {
   "cell_type": "markdown",
   "id": "57e20791",
   "metadata": {},
   "source": [
    "### loading json file "
   ]
  },
  {
   "cell_type": "code",
   "execution_count": 2,
   "id": "db56fb65",
   "metadata": {},
   "outputs": [],
   "source": [
    "t = []\n",
    "with open(\"E:\\\\function_summarization\\\\datasets\\\\nfcorpus\\\\corpus.jsonl\", 'r') as file:\n",
    "    for line in file:\n",
    "        t.append(json.loads(line))"
   ]
  },
  {
   "cell_type": "code",
   "execution_count": 3,
   "id": "feb4670a",
   "metadata": {},
   "outputs": [],
   "source": [
    "corpus=[]\n",
    "list1=[]\n",
    "for i in range(0,len(t)-1):\n",
    "    # print(i)\n",
    "    for k,v in t[i].items():\n",
    "        if k=='text':\n",
    "            c=t[i][k]\n",
    "            corpus.append(c)\n",
    "#             print(corpus)"
   ]
  },
  {
   "cell_type": "markdown",
   "id": "16f95ab3",
   "metadata": {},
   "source": [
    "### Preprocessing"
   ]
  },
  {
   "cell_type": "code",
   "execution_count": 4,
   "id": "be78d33e",
   "metadata": {},
   "outputs": [],
   "source": [
    "def remove_punctuation(text):\n",
    "    return re.sub(r'[^\\w\\s]', '', text)\n",
    "\n",
    "clean_passages = [remove_punctuation(passage) for passage in corpus]"
   ]
  },
  {
   "cell_type": "code",
   "execution_count": 5,
   "id": "c5bbee27",
   "metadata": {},
   "outputs": [],
   "source": [
    "stop_words = set(stopwords.words('english'))\n",
    "def remove_stopwords(sentences):\n",
    "    cleaned_sentences = []\n",
    "    for sentence in sentences:\n",
    "        # Tokenize the sentence into words\n",
    "        words = sentence.split()\n",
    "        # Remove stop words and rejoin the words to form the cleaned sentence\n",
    "        cleaned_sentence = ' '.join([word for word in words if word.lower() not in stop_words])\n",
    "        cleaned_sentences.append(cleaned_sentence)\n",
    "    return cleaned_sentences"
   ]
  },
  {
   "cell_type": "code",
   "execution_count": 6,
   "id": "fda956bc",
   "metadata": {},
   "outputs": [],
   "source": [
    "cleaned_text_list = remove_stopwords(clean_passages)"
   ]
  },
  {
   "cell_type": "code",
   "execution_count": 7,
   "id": "189cef79",
   "metadata": {},
   "outputs": [
    {
     "data": {
      "text/plain": [
       "'Recent studies suggested statins established drug group prevention cardiovascular mortality could delay prevent breast cancer recurrence effect diseasespecific mortality remains unclear evaluated risk breast cancer death among statin users populationbased cohort breast cancer patients study cohort included newly diagnosed breast cancer patients Finland 19952003 31236 cases identified Finnish Cancer Registry Information statin use diagnosis obtained national prescription database used Cox proportional hazards regression method estimate mortality among statin users statin use timedependent variable total 4151 participants used statins median followup 325 years diagnosis range 00890 years 6011 participants died 3619 602 due breast cancer adjustment age tumor characteristics treatment selection postdiagnostic prediagnostic statin use associated lowered risk breast cancer death HR 046 95 CI 038055 HR 054 95 CI 044067 respectively risk decrease postdiagnostic statin use likely affected healthy adherer bias greater likelihood dying cancer patients discontinue statin use association clearly dosedependent observed already lowdoseshortterm use dose timedependence survival benefit among prediagnostic statin users suggests possible causal effect evaluated clinical trial testing statins effect survival breast cancer patients'"
      ]
     },
     "execution_count": 7,
     "metadata": {},
     "output_type": "execute_result"
    }
   ],
   "source": [
    "cleaned_text_list[0]"
   ]
  },
  {
   "cell_type": "code",
   "execution_count": 8,
   "id": "acb546f2",
   "metadata": {},
   "outputs": [],
   "source": [
    "query=\"Breast Cancer Cells Feed on Cholesterol\""
   ]
  },
  {
   "cell_type": "markdown",
   "id": "35423b38",
   "metadata": {},
   "source": [
    "### calculating embeddings for query using large and small models"
   ]
  },
  {
   "cell_type": "code",
   "execution_count": 9,
   "id": "5befe69d",
   "metadata": {},
   "outputs": [
    {
     "name": "stderr",
     "output_type": "stream",
     "text": [
      "C:\\Users\\Samiksha\\AppData\\Local\\Programs\\Python\\Python310\\lib\\site-packages\\transformers\\tokenization_utils_base.py:1601: FutureWarning: `clean_up_tokenization_spaces` was not set. It will be set to `True` by default. This behavior will be depracted in transformers v4.45, and will be then set to `False` by default. For more details check this issue: https://github.com/huggingface/transformers/issues/31884\n",
      "  warnings.warn(\n"
     ]
    }
   ],
   "source": [
    "from transformers import AutoTokenizer, AutoModel\n",
    "import torch\n",
    "\n",
    "small_tokenizer = AutoTokenizer.from_pretrained(\"sentence-transformers/all-MiniLM-L6-v2\")\n",
    "small_model = AutoModel.from_pretrained(\"sentence-transformers/all-MiniLM-L6-v2\")"
   ]
  },
  {
   "cell_type": "code",
   "execution_count": 10,
   "id": "703eeb09",
   "metadata": {},
   "outputs": [],
   "source": [
    "large_tokenizer = AutoTokenizer.from_pretrained(\"sentence-transformers/paraphrase-mpnet-base-v2\")\n",
    "large_model = AutoModel.from_pretrained(\"sentence-transformers/paraphrase-mpnet-base-v2\")"
   ]
  },
  {
   "cell_type": "code",
   "execution_count": 11,
   "id": "70368598",
   "metadata": {},
   "outputs": [],
   "source": [
    "# Get embeddings for the query\n",
    "query_small=small_tokenizer(query,padding=True,truncation=True,return_tensors='pt')\n",
    "query_large=large_tokenizer(query,padding=True,truncation=True,return_tensors='pt')"
   ]
  },
  {
   "cell_type": "code",
   "execution_count": 12,
   "id": "2d6800c8",
   "metadata": {},
   "outputs": [
    {
     "name": "stdout",
     "output_type": "stream",
     "text": [
      "tensor([[-1.9124e-01, -4.2612e-01, -5.5825e-01, -7.8522e-02, -3.0761e-01,\n",
      "         -1.7760e-01, -2.9396e-02, -1.8586e-01,  1.7783e-01, -6.0575e-01,\n",
      "         -2.2265e-01,  1.1777e-01, -2.3045e-01, -7.1610e-01,  1.7781e-01,\n",
      "          4.2638e-01, -3.4270e-01,  1.7197e-01,  2.0063e-02,  3.4023e-01,\n",
      "          2.5618e-02, -2.1915e-01, -3.4811e-02,  5.2988e-01, -1.3165e-01,\n",
      "         -3.9036e-01,  7.2193e-02,  1.7190e-01, -6.0912e-01,  1.5412e-02,\n",
      "          8.6511e-02, -1.9129e-01, -2.9618e-01,  3.2074e-01, -3.8309e-01,\n",
      "         -1.2076e-01,  1.4657e-01,  4.6712e-01, -3.8458e-01, -7.1034e-02,\n",
      "          2.0458e-01, -3.7315e-01,  1.5309e-01,  2.0877e-01,  2.3467e-01,\n",
      "         -4.8437e-01, -3.0059e-01, -6.3794e-02,  6.0033e-02,  3.7779e-01,\n",
      "         -3.7142e-01, -1.1354e-02, -5.6691e-01, -1.0326e-01,  9.9764e-02,\n",
      "          2.4917e-01,  6.8832e-03,  1.6551e-01,  3.0395e-01, -3.2164e-02,\n",
      "          1.2559e-01, -6.4166e-01,  4.6814e-01,  2.9513e-01, -1.6362e-01,\n",
      "         -4.3280e-01, -3.6345e-01,  6.3656e-02, -3.7496e-01,  1.1809e-01,\n",
      "          4.7520e-02, -3.0532e-02, -2.7831e-01,  1.4943e-01,  3.5544e-01,\n",
      "          4.5323e-01,  1.4501e-01, -3.0273e-01,  3.0649e-01,  2.5711e-01,\n",
      "         -8.0993e-02, -1.9250e-01,  3.2197e-01,  6.0030e-01,  5.8744e-02,\n",
      "          3.0779e-03,  1.3627e-01,  1.7009e-01, -1.5011e-01,  1.5630e-01,\n",
      "         -4.3562e-02,  9.1903e-02,  1.1251e-01,  6.3915e-01, -6.1462e-01,\n",
      "         -2.9152e-01,  1.5515e-01, -2.5663e-01, -3.1359e-01, -1.9252e-01,\n",
      "          4.7564e-02, -1.5785e-01, -2.1579e-01, -6.2222e-02, -7.0215e-02,\n",
      "         -4.7412e-02, -8.4294e-02,  7.6762e-02, -4.7061e-01,  1.7226e-01,\n",
      "          1.0849e-01, -2.8120e-01, -1.7737e-01, -2.2096e-01,  4.8111e-02,\n",
      "          4.6536e-01,  2.2462e-03, -8.6432e-01, -4.5452e-01,  9.1551e-02,\n",
      "         -2.3832e-01, -1.4432e-01,  8.3192e-02,  5.0162e-02,  4.2399e-03,\n",
      "          5.3045e-02,  5.2865e-01,  4.5265e-33,  2.0672e-01, -2.0056e-01,\n",
      "          5.7224e-01,  2.6625e-01,  6.1824e-02,  2.6235e-01,  1.9900e-02,\n",
      "         -3.5590e-01,  2.0518e-01, -2.9765e-01,  2.7977e-01,  2.3471e-02,\n",
      "          1.0204e-01, -1.0908e-01, -2.1943e-01, -1.6396e-01, -9.8356e-02,\n",
      "          1.4820e-01, -1.0565e-01, -1.2749e-01, -2.3005e-01,  5.4555e-02,\n",
      "         -1.5436e-01, -3.8623e-01, -8.2251e-02, -1.7344e-02, -2.3460e-01,\n",
      "          3.0341e-01, -5.0953e-02,  2.0757e-01, -2.9923e-01, -5.5776e-01,\n",
      "          6.6961e-02, -1.2252e-01,  2.7548e-01,  5.0924e-01, -3.3692e-01,\n",
      "          7.2860e-02,  5.2011e-03,  4.0178e-01,  2.8264e-01, -2.9064e-01,\n",
      "          3.8818e-01, -1.2936e-01, -1.7973e-01,  2.8462e-01, -1.4155e-01,\n",
      "         -4.3687e-01, -1.0195e-02, -1.2059e-01,  5.3862e-02, -2.6360e-01,\n",
      "         -1.4122e-01,  5.5891e-01,  3.3041e-01,  2.7686e-02, -2.2819e-01,\n",
      "          4.2548e-01, -1.2612e-01,  2.2339e-02,  1.5787e-01, -1.6147e-01,\n",
      "         -4.6412e-01,  3.1024e-01,  5.4508e-02,  1.8061e-01, -1.3902e-01,\n",
      "         -5.2460e-01, -8.5061e-02,  3.9711e-01,  4.4244e-01, -1.4703e-01,\n",
      "          3.5318e-01, -1.3234e-01, -4.6721e-02,  7.3439e-01,  4.5161e-02,\n",
      "          3.7508e-01, -4.2441e-01,  5.7958e-01,  2.6046e-01, -2.7712e-01,\n",
      "         -5.2023e-01, -1.5264e-01, -1.4788e-01,  3.0352e-02, -3.7693e-01,\n",
      "         -2.6604e-01,  3.8049e-01,  1.8082e-01,  1.5291e-01, -1.2361e-01,\n",
      "         -8.4587e-02, -2.7104e-01, -4.8185e-01, -1.4359e-32, -3.1837e-01,\n",
      "         -2.2462e-01,  3.4713e-01, -2.0755e-01,  3.3007e-01,  1.6807e-01,\n",
      "          1.1374e-01, -1.8705e-01,  3.5850e-01, -1.3688e-01,  3.1950e-02,\n",
      "          2.1524e-01, -1.2262e-01,  1.8551e-01, -1.3924e-01,  2.8529e-01,\n",
      "          3.0623e-01, -9.4263e-02, -2.3255e-01, -3.5035e-01, -2.9500e-01,\n",
      "          6.9802e-01,  1.6115e-01,  9.0735e-01, -4.3158e-01,  3.7843e-01,\n",
      "          1.3808e-01,  1.7592e-02,  4.5531e-01, -8.8234e-02,  1.6674e-01,\n",
      "         -1.5154e-01, -9.7093e-02, -1.0118e-02, -1.6290e-01, -2.5031e-01,\n",
      "         -1.5154e-01, -1.8406e-01,  2.2209e-01, -9.4760e-02, -3.2401e-01,\n",
      "          1.3086e-01, -2.3383e-01, -2.1526e-01,  1.6947e-01,  5.4619e-02,\n",
      "          3.6789e-01,  4.9010e-01,  3.8389e-01,  4.0918e-02, -2.4822e-01,\n",
      "          8.0760e-02, -1.3190e-01,  4.6241e-01,  3.1521e-02,  2.4984e-01,\n",
      "          2.3570e-01,  5.4459e-02,  7.2052e-01, -4.2453e-01, -4.3869e-01,\n",
      "          7.9160e-02, -4.2191e-01, -6.0047e-01, -1.1630e-01,  6.2628e-01,\n",
      "          1.3250e-01, -5.8421e-01,  2.2305e-01,  1.0403e-01,  1.5258e-02,\n",
      "          8.3852e-01, -3.8349e-01,  2.7169e-01, -3.8421e-01,  3.5663e-01,\n",
      "          8.2598e-02, -5.0740e-02,  1.0293e-01,  2.1863e-01, -4.4217e-01,\n",
      "          1.5967e-01,  4.7796e-01, -5.5128e-01,  2.8514e-01,  1.0920e-01,\n",
      "         -4.3528e-01, -9.3852e-02,  5.5712e-02,  1.6529e-01, -6.2431e-02,\n",
      "         -2.5621e-01, -1.5989e-01,  3.6668e-01, -2.0340e-01, -9.4163e-08,\n",
      "          2.5214e-01, -2.4951e-01,  3.7887e-02, -3.6036e-01, -2.9160e-01,\n",
      "         -2.4776e-01, -3.5163e-02,  1.3642e-01,  6.9229e-01, -6.4405e-02,\n",
      "          9.3882e-02,  1.0757e+00,  1.6090e-01,  1.7928e-02, -1.2642e-02,\n",
      "          2.2604e-01,  4.2551e-01, -4.5750e-01, -6.8349e-02, -3.8416e-01,\n",
      "          3.8450e-01, -3.3621e-01, -4.7507e-02,  4.2421e-01, -1.5228e-01,\n",
      "          1.5303e-01, -2.4594e-01,  1.2090e-01,  3.5587e-01, -2.7069e-01,\n",
      "          4.9878e-01, -2.1408e-01,  7.3355e-02,  1.9784e-01,  1.6515e-01,\n",
      "          1.9872e-01,  1.2205e-01, -3.8672e-01, -2.2503e-02,  5.5716e-01,\n",
      "          3.2945e-01, -1.9208e-01,  1.7229e-01,  8.9863e-03, -7.0547e-01,\n",
      "          1.1440e-01, -6.4378e-02,  8.9302e-02, -9.2583e-02, -2.0750e-01,\n",
      "         -5.9604e-01,  1.9496e-01, -1.3792e-01, -1.3969e-01, -3.6423e-01,\n",
      "         -1.8406e-01,  3.4134e-02, -8.7697e-02,  1.5238e-01,  8.6881e-02,\n",
      "          1.3503e-01, -1.3487e-01,  9.6439e-01,  4.2352e-01]])\n"
     ]
    }
   ],
   "source": [
    "with torch.no_grad():\n",
    "    query_small=small_model(**query_small)\n",
    "    query_large=large_model(**query_large)\n",
    "#     print(query_small)\n",
    "q_small_emb=query_small.last_hidden_state.mean(dim=1)\n",
    "q_large_emb=query_large.last_hidden_state.mean(dim=1)\n",
    "print(q_small_emb)"
   ]
  },
  {
   "cell_type": "markdown",
   "id": "fab4f081",
   "metadata": {},
   "source": [
    "### calculating embeddings for preprocessed text using large and small models"
   ]
  },
  {
   "cell_type": "code",
   "execution_count": 13,
   "id": "fc3a2588",
   "metadata": {},
   "outputs": [],
   "source": [
    "def process_batches(passages,tokenizer,batch_size=2): #batch size controls how many passages are processed at a time\n",
    "#     embeddings = []\n",
    "    token=[]\n",
    "    for i in range(0,len(passages),batch_size):\n",
    "        batch=passages[i:i+batch_size]\n",
    "        tokens=tokenizer(batch,padding=True,truncation=True,return_tensors='pt')\n",
    "#         print(tokens)\n",
    "        token.append(tokens)\n",
    "    return token\n",
    "small_tokens=process_batches(cleaned_text_list,small_tokenizer)\n",
    "large_tokens=process_batches(cleaned_text_list,large_tokenizer)"
   ]
  },
  {
   "cell_type": "code",
   "execution_count": 14,
   "id": "26cab997",
   "metadata": {},
   "outputs": [
    {
     "name": "stdout",
     "output_type": "stream",
     "text": [
      "{'input_ids': tensor([[  101,  3522,  2913,  4081, 28093,  7076,  2511,  4319,  2177,  9740,\n",
      "         22935, 13356,  2071,  8536,  4652,  7388,  4456, 28667,  3126, 24413,\n",
      "          3466,  7870,  5051,  6895,  8873,  2278, 13356,  3464, 10599, 16330,\n",
      "          3891,  7388,  4456,  2331,  2426, 28093,  2378,  5198,  2313, 15058,\n",
      "          2094,  2522, 27794,  7388,  4456,  5022,  2817,  2522, 27794,  2443,\n",
      "          4397, 11441,  7388,  4456,  5022,  6435,  2786, 28332,  2509, 21036,\n",
      "         21619,  3572,  4453,  6983,  4456, 15584,  2592, 28093,  2378,  2224,\n",
      "         11616,  4663,  2120, 20422,  7809,  2109,  9574, 14267, 22010, 26237,\n",
      "          4118, 10197, 13356,  2426, 28093,  2378,  5198, 28093,  2378,  2224,\n",
      "         22313, 13699, 10497,  4765,  8023,  2561, 24690,  2487,  6818,  2109,\n",
      "         28093,  7076,  3991,  3582,  6279, 19652,  2086, 11616,  2846,  4002,\n",
      "          2620, 21057,  2086,  3438, 14526,  6818,  2351,  4029, 16147,  3438,\n",
      "          2475,  2349,  7388,  4456, 19037,  2287, 13656,  6459,  3949,  4989,\n",
      "          2695,  9032, 26745, 10074,  3653,  9032, 26745, 10074, 28093,  2378,\n",
      "          2224,  3378,  6668,  3891,  7388,  4456,  2331, 17850,  5840,  2575,\n",
      "          5345, 25022,  6021, 17914, 24087, 17850,  5709,  2549,  5345, 25022,\n",
      "          5840, 12740,  2575,  2581,  4414,  3891,  9885,  2695,  9032, 26745,\n",
      "         10074, 28093,  2378,  2224,  3497,  5360,  7965, 25276,  2099, 13827,\n",
      "          3618, 16593,  5996,  4456,  5022, 12532, 16778, 11231,  2063, 28093,\n",
      "          2378,  2224,  2523,  4415, 13004,  3207, 11837, 16454,  5159,  2525,\n",
      "          2659, 12269,  9953, 11589,  3334,  2213,  2224, 13004, 22313, 13699,\n",
      "         10497, 10127,  7691,  5770,  2426,  3653,  9032, 26745, 10074, 28093,\n",
      "          2378,  5198,  6083,  2825, 28102,  3466, 16330,  6612,  3979,  5604,\n",
      "         28093,  7076,  3466,  7691,  7388,  4456,  5022,   102],\n",
      "        [  101,  4281,  3653, 20464,  5498,  9289,  2913,  3491, 28093,  7076,\n",
      "          3391, 21934, 12044, 29336,  2378,  4652,  3930,  7388,  4456,  3526,\n",
      "          3210,  4111,  4275, 10847,  3251, 28093,  7076,  2109,  7388,  4456,\n",
      "         11616,  4359,  3891,  7388, 25409,  5051,  6895,  8873,  2278,  2035,\n",
      "          3540,  8557, 13356,  2312,  2522, 27794,  7388,  4456,  5022,  4725,\n",
      "          2522, 27794, 15622,  2692,  7388,  4456,  5022,  4397, 11441,  2687,\n",
      "          2268,  4453,  2394,  4456, 20588, 21011,  2120,  4456,  2951, 22409,\n",
      "          2522, 27794,  5799,  2866,  6612,  3218,  2470,  2951, 13767,  4346,\n",
      "         20422,  2636,  2436,  2120,  6747, 13356,  2951,  2286, 12151,  4029,\n",
      "          2683,  2549,  6677,  2164, 16333,  2683,  6677,  2012, 18886,  8569,\n",
      "         10880,  7388,  4456, 14477,  2094, 29427,  2098, 10426, 15559, 21879,\n",
      "         17850,  2015,  7388, 25409,  5051,  6895,  8873,  2278,  2035,  3540,\n",
      "          8557, 13356, 28093,  2378,  5198,  7388,  4456, 11616, 10174,  2478,\n",
      "         22313, 13699, 10497,  4765,  9574, 26237,  4275, 14639, 16478,  4146,\n",
      "          2478,  3674, 17727, 26117,  4725, 17678,  6132,  3012,  3556,  4725,\n",
      "          2553,  8663, 13181,  2140,  3921,  3463,  3350, 28093,  2378,  2224,\n",
      "         11616,  7388,  4456,  4359, 13356,  2349,  7388,  4456,  5320,  3929,\n",
      "         10426, 17850,  5511,  2549,  5345,  7023, 13483,  5757,  2620, 10790,\n",
      "          2549,  5511,  2549,  5718, 11387,  2683,  2581,  4414,  8924,  4417,\n",
      "         21934, 12044, 29336,  2378,  5718,  2683,  5757, 21486,  8889,  5511,\n",
      "          2487,  5718,  8889,  2683,  2629,  4414, 15306,  2312,  2313, 15058,\n",
      "          2094,  7388,  4456,  2522, 27794,  3350,  4359, 13356, 28093,  2378,\n",
      "          5198,  7388,  4456, 11616,  2174,  8924,  5410, 10194,  2012,  6528,\n",
      "         16453, 14639, 16478,   102,     0,     0,     0,     0]]), 'token_type_ids': tensor([[0, 0, 0, 0, 0, 0, 0, 0, 0, 0, 0, 0, 0, 0, 0, 0, 0, 0, 0, 0, 0, 0, 0, 0,\n",
      "         0, 0, 0, 0, 0, 0, 0, 0, 0, 0, 0, 0, 0, 0, 0, 0, 0, 0, 0, 0, 0, 0, 0, 0,\n",
      "         0, 0, 0, 0, 0, 0, 0, 0, 0, 0, 0, 0, 0, 0, 0, 0, 0, 0, 0, 0, 0, 0, 0, 0,\n",
      "         0, 0, 0, 0, 0, 0, 0, 0, 0, 0, 0, 0, 0, 0, 0, 0, 0, 0, 0, 0, 0, 0, 0, 0,\n",
      "         0, 0, 0, 0, 0, 0, 0, 0, 0, 0, 0, 0, 0, 0, 0, 0, 0, 0, 0, 0, 0, 0, 0, 0,\n",
      "         0, 0, 0, 0, 0, 0, 0, 0, 0, 0, 0, 0, 0, 0, 0, 0, 0, 0, 0, 0, 0, 0, 0, 0,\n",
      "         0, 0, 0, 0, 0, 0, 0, 0, 0, 0, 0, 0, 0, 0, 0, 0, 0, 0, 0, 0, 0, 0, 0, 0,\n",
      "         0, 0, 0, 0, 0, 0, 0, 0, 0, 0, 0, 0, 0, 0, 0, 0, 0, 0, 0, 0, 0, 0, 0, 0,\n",
      "         0, 0, 0, 0, 0, 0, 0, 0, 0, 0, 0, 0, 0, 0, 0, 0, 0, 0, 0, 0, 0, 0, 0, 0,\n",
      "         0, 0, 0, 0, 0, 0, 0, 0, 0, 0, 0, 0, 0, 0, 0, 0, 0, 0, 0, 0, 0, 0],\n",
      "        [0, 0, 0, 0, 0, 0, 0, 0, 0, 0, 0, 0, 0, 0, 0, 0, 0, 0, 0, 0, 0, 0, 0, 0,\n",
      "         0, 0, 0, 0, 0, 0, 0, 0, 0, 0, 0, 0, 0, 0, 0, 0, 0, 0, 0, 0, 0, 0, 0, 0,\n",
      "         0, 0, 0, 0, 0, 0, 0, 0, 0, 0, 0, 0, 0, 0, 0, 0, 0, 0, 0, 0, 0, 0, 0, 0,\n",
      "         0, 0, 0, 0, 0, 0, 0, 0, 0, 0, 0, 0, 0, 0, 0, 0, 0, 0, 0, 0, 0, 0, 0, 0,\n",
      "         0, 0, 0, 0, 0, 0, 0, 0, 0, 0, 0, 0, 0, 0, 0, 0, 0, 0, 0, 0, 0, 0, 0, 0,\n",
      "         0, 0, 0, 0, 0, 0, 0, 0, 0, 0, 0, 0, 0, 0, 0, 0, 0, 0, 0, 0, 0, 0, 0, 0,\n",
      "         0, 0, 0, 0, 0, 0, 0, 0, 0, 0, 0, 0, 0, 0, 0, 0, 0, 0, 0, 0, 0, 0, 0, 0,\n",
      "         0, 0, 0, 0, 0, 0, 0, 0, 0, 0, 0, 0, 0, 0, 0, 0, 0, 0, 0, 0, 0, 0, 0, 0,\n",
      "         0, 0, 0, 0, 0, 0, 0, 0, 0, 0, 0, 0, 0, 0, 0, 0, 0, 0, 0, 0, 0, 0, 0, 0,\n",
      "         0, 0, 0, 0, 0, 0, 0, 0, 0, 0, 0, 0, 0, 0, 0, 0, 0, 0, 0, 0, 0, 0]]), 'attention_mask': tensor([[1, 1, 1, 1, 1, 1, 1, 1, 1, 1, 1, 1, 1, 1, 1, 1, 1, 1, 1, 1, 1, 1, 1, 1,\n",
      "         1, 1, 1, 1, 1, 1, 1, 1, 1, 1, 1, 1, 1, 1, 1, 1, 1, 1, 1, 1, 1, 1, 1, 1,\n",
      "         1, 1, 1, 1, 1, 1, 1, 1, 1, 1, 1, 1, 1, 1, 1, 1, 1, 1, 1, 1, 1, 1, 1, 1,\n",
      "         1, 1, 1, 1, 1, 1, 1, 1, 1, 1, 1, 1, 1, 1, 1, 1, 1, 1, 1, 1, 1, 1, 1, 1,\n",
      "         1, 1, 1, 1, 1, 1, 1, 1, 1, 1, 1, 1, 1, 1, 1, 1, 1, 1, 1, 1, 1, 1, 1, 1,\n",
      "         1, 1, 1, 1, 1, 1, 1, 1, 1, 1, 1, 1, 1, 1, 1, 1, 1, 1, 1, 1, 1, 1, 1, 1,\n",
      "         1, 1, 1, 1, 1, 1, 1, 1, 1, 1, 1, 1, 1, 1, 1, 1, 1, 1, 1, 1, 1, 1, 1, 1,\n",
      "         1, 1, 1, 1, 1, 1, 1, 1, 1, 1, 1, 1, 1, 1, 1, 1, 1, 1, 1, 1, 1, 1, 1, 1,\n",
      "         1, 1, 1, 1, 1, 1, 1, 1, 1, 1, 1, 1, 1, 1, 1, 1, 1, 1, 1, 1, 1, 1, 1, 1,\n",
      "         1, 1, 1, 1, 1, 1, 1, 1, 1, 1, 1, 1, 1, 1, 1, 1, 1, 1, 1, 1, 1, 1],\n",
      "        [1, 1, 1, 1, 1, 1, 1, 1, 1, 1, 1, 1, 1, 1, 1, 1, 1, 1, 1, 1, 1, 1, 1, 1,\n",
      "         1, 1, 1, 1, 1, 1, 1, 1, 1, 1, 1, 1, 1, 1, 1, 1, 1, 1, 1, 1, 1, 1, 1, 1,\n",
      "         1, 1, 1, 1, 1, 1, 1, 1, 1, 1, 1, 1, 1, 1, 1, 1, 1, 1, 1, 1, 1, 1, 1, 1,\n",
      "         1, 1, 1, 1, 1, 1, 1, 1, 1, 1, 1, 1, 1, 1, 1, 1, 1, 1, 1, 1, 1, 1, 1, 1,\n",
      "         1, 1, 1, 1, 1, 1, 1, 1, 1, 1, 1, 1, 1, 1, 1, 1, 1, 1, 1, 1, 1, 1, 1, 1,\n",
      "         1, 1, 1, 1, 1, 1, 1, 1, 1, 1, 1, 1, 1, 1, 1, 1, 1, 1, 1, 1, 1, 1, 1, 1,\n",
      "         1, 1, 1, 1, 1, 1, 1, 1, 1, 1, 1, 1, 1, 1, 1, 1, 1, 1, 1, 1, 1, 1, 1, 1,\n",
      "         1, 1, 1, 1, 1, 1, 1, 1, 1, 1, 1, 1, 1, 1, 1, 1, 1, 1, 1, 1, 1, 1, 1, 1,\n",
      "         1, 1, 1, 1, 1, 1, 1, 1, 1, 1, 1, 1, 1, 1, 1, 1, 1, 1, 1, 1, 1, 1, 1, 1,\n",
      "         1, 1, 1, 1, 1, 1, 1, 1, 1, 1, 1, 1, 1, 1, 1, 1, 1, 1, 0, 0, 0, 0]])}\n"
     ]
    }
   ],
   "source": [
    "print(small_tokens[0])"
   ]
  },
  {
   "cell_type": "code",
   "execution_count": 15,
   "id": "2180e05c",
   "metadata": {},
   "outputs": [],
   "source": [
    "def compute_embeddings(tokenized_batches, model):\n",
    "    embeddings_list = []\n",
    "    for tokens in tokenized_batches:\n",
    "        with torch.no_grad():\n",
    "            model_output = model(**tokens)\n",
    "        embeddings = model_output.last_hidden_state.mean(dim=1)  # Mean pooling\n",
    "        embeddings_list.append(embeddings)\n",
    "    return torch.cat(embeddings_list, dim=0)\n",
    "\n",
    "# Get embeddings from tokenized batches\n",
    "small_embeddings = compute_embeddings(small_tokens, small_model)\n",
    "# large_embeddings = compute_embeddings(large_tokens, large_model)"
   ]
  },
  {
   "cell_type": "code",
   "execution_count": 16,
   "id": "906b8652",
   "metadata": {},
   "outputs": [
    {
     "name": "stdout",
     "output_type": "stream",
     "text": [
      "torch.Size([3632, 384])\n"
     ]
    }
   ],
   "source": [
    "print(small_embeddings.shape)\n",
    "#number of passages you processed= 3632\n",
    "#The size of each embedding vector =384"
   ]
  },
  {
   "cell_type": "code",
   "execution_count": 17,
   "id": "cd82e4c2",
   "metadata": {},
   "outputs": [],
   "source": [
    "large_embeddings = compute_embeddings(large_tokens, large_model)"
   ]
  },
  {
   "cell_type": "code",
   "execution_count": 18,
   "id": "3f7faa67",
   "metadata": {},
   "outputs": [
    {
     "data": {
      "text/plain": [
       "torch.Size([3632, 768])"
      ]
     },
     "execution_count": 18,
     "metadata": {},
     "output_type": "execute_result"
    }
   ],
   "source": [
    "large_embeddings.shape"
   ]
  },
  {
   "cell_type": "code",
   "execution_count": 21,
   "id": "8c426077",
   "metadata": {},
   "outputs": [],
   "source": [
    "from sentence_transformers.util import cos_sim "
   ]
  },
  {
   "cell_type": "markdown",
   "id": "d8f4ad75",
   "metadata": {},
   "source": [
    "### applying cosine similarities"
   ]
  },
  {
   "cell_type": "code",
   "execution_count": 22,
   "id": "5d2c1818",
   "metadata": {},
   "outputs": [],
   "source": [
    "small_cosine_scores = cos_sim(q_small_emb, small_embeddings)[0]\n",
    "large_cosine_scores = cos_sim(q_large_emb, large_embeddings)[0]"
   ]
  },
  {
   "cell_type": "code",
   "execution_count": 23,
   "id": "b7d1ccca",
   "metadata": {},
   "outputs": [
    {
     "name": "stdout",
     "output_type": "stream",
     "text": [
      "tensor([1377, 1378, 1383, 2078,   82])\n"
     ]
    }
   ],
   "source": [
    "k = 5\n",
    "small_top_k_indices = torch.topk(small_cosine_scores, k).indices\n",
    "large_top_k_indices = torch.topk(large_cosine_scores, k).indices\n",
    "print(small_top_k_indices)"
   ]
  },
  {
   "cell_type": "markdown",
   "id": "25fb0bbf",
   "metadata": {},
   "source": [
    "### Top 5 similarity passages from small and large models"
   ]
  },
  {
   "cell_type": "code",
   "execution_count": 24,
   "id": "f012e9d2",
   "metadata": {},
   "outputs": [
    {
     "name": "stdout",
     "output_type": "stream",
     "text": [
      "Top-k Passages from Small Model:\n",
      "['The specific role of dietary fat in breast cancer progression is unclear although a lowfat diet was associated with decreased recurrence of estrogen receptor alpha negative ER breast cancer ER basallike MDAMB231 and MDAMB436 breast cancer cell lines contained a greater number of cytoplasmic lipid droplets compared to luminal ER MCF7 cells Therefore we studied lipid storage functions in these cells Both triacylglycerol and cholesteryl ester CE concentrations were higher in the ER cells but the ability to synthesize CE distinguished the two types of breast cancer cells Higher baseline oleic acid and LDLstimulated CE concentrations were found in ER compared to ER cells The differences corresponded to greater mRNA and protein levels of acylCoAcholesterol acyltransferase 1 ACAT1 higher ACAT activity higher caveolin1 protein levels greater LDL uptake and lower de novo cholesterol synthesis in ER cells Human LDL stimulated proliferation of ER MDAMB231 cells but had little effect on proliferation of ER MCF7 cells The functional significance of these findings was demonstrated by the observation that the ACAT inhibitor CP113818 reduced proliferation of breast cancer cells and specifically reduced LDLinduced proliferation of ER cells Taken together our studies show that a greater ability to take up store and utilize exogenous cholesterol confers a proliferative advantage to basallike ER breast cancer cells Differences in lipid uptake and storage capability may at least partially explain the differential effect of a lowfat diet on human breast cancer recurrence']\n",
      "['The specific role of dietary fat in breast cancer progression is unclear although a lowfat diet was associated with decreased recurrence of estrogen receptor alpha negative ER breast cancer ER basallike MDAMB231 and MDAMB436 breast cancer cell lines contained a greater number of cytoplasmic lipid droplets compared to luminal ER MCF7 cells Therefore we studied lipid storage functions in these cells Both triacylglycerol and cholesteryl ester CE concentrations were higher in the ER cells but the ability to synthesize CE distinguished the two types of breast cancer cells Higher baseline oleic acid and LDLstimulated CE concentrations were found in ER compared to ER cells The differences corresponded to greater mRNA and protein levels of acylCoAcholesterol acyltransferase 1 ACAT1 higher ACAT activity higher caveolin1 protein levels greater LDL uptake and lower de novo cholesterol synthesis in ER cells Human LDL stimulated proliferation of ER MDAMB231 cells but had little effect on proliferation of ER MCF7 cells The functional significance of these findings was demonstrated by the observation that the ACAT inhibitor CP113818 reduced proliferation of breast cancer cells and specifically reduced LDLinduced proliferation of ER cells Taken together our studies show that a greater ability to take up store and utilize exogenous cholesterol confers a proliferative advantage to basallike ER breast cancer cells Differences in lipid uptake and storage capability may at least partially explain the differential effect of a lowfat diet on human breast cancer recurrence', 'Breast cancer is the leading cause of cancerrelated deaths in women in the United States and many other countries There is an immediate need for more effective and less toxic therapeutic and preventive strategies for many cancers especially for breast cancer Natural products are being tested with a hope of identifying novel potent molecules as anticancer agents Phytochemicals and dietary compounds have been used for the treatment of various illnesses throughout history due to their safety low toxicity and general availability Currently many active phytochemicals are in clinical trials Preclinical and clinical studies have indicated that daily consumption of dietary phytochemicals reduces the risk of several cancers Phytochemicals can inhibit delay or reverse carcinogenesis by inducing detoxifying and antioxidant enzymes by regulating inflammatoryproliferative signaling pathways and by inducing apoptosis This review article describes some of the potential natural cancer preventive compounds along with a mechanistic discussion of their interactions with key cellular signal transduction pathways as well as their contribution to the suppression of breast cancer cell growth']\n",
      "['The specific role of dietary fat in breast cancer progression is unclear although a lowfat diet was associated with decreased recurrence of estrogen receptor alpha negative ER breast cancer ER basallike MDAMB231 and MDAMB436 breast cancer cell lines contained a greater number of cytoplasmic lipid droplets compared to luminal ER MCF7 cells Therefore we studied lipid storage functions in these cells Both triacylglycerol and cholesteryl ester CE concentrations were higher in the ER cells but the ability to synthesize CE distinguished the two types of breast cancer cells Higher baseline oleic acid and LDLstimulated CE concentrations were found in ER compared to ER cells The differences corresponded to greater mRNA and protein levels of acylCoAcholesterol acyltransferase 1 ACAT1 higher ACAT activity higher caveolin1 protein levels greater LDL uptake and lower de novo cholesterol synthesis in ER cells Human LDL stimulated proliferation of ER MDAMB231 cells but had little effect on proliferation of ER MCF7 cells The functional significance of these findings was demonstrated by the observation that the ACAT inhibitor CP113818 reduced proliferation of breast cancer cells and specifically reduced LDLinduced proliferation of ER cells Taken together our studies show that a greater ability to take up store and utilize exogenous cholesterol confers a proliferative advantage to basallike ER breast cancer cells Differences in lipid uptake and storage capability may at least partially explain the differential effect of a lowfat diet on human breast cancer recurrence', 'Breast cancer is the leading cause of cancerrelated deaths in women in the United States and many other countries There is an immediate need for more effective and less toxic therapeutic and preventive strategies for many cancers especially for breast cancer Natural products are being tested with a hope of identifying novel potent molecules as anticancer agents Phytochemicals and dietary compounds have been used for the treatment of various illnesses throughout history due to their safety low toxicity and general availability Currently many active phytochemicals are in clinical trials Preclinical and clinical studies have indicated that daily consumption of dietary phytochemicals reduces the risk of several cancers Phytochemicals can inhibit delay or reverse carcinogenesis by inducing detoxifying and antioxidant enzymes by regulating inflammatoryproliferative signaling pathways and by inducing apoptosis This review article describes some of the potential natural cancer preventive compounds along with a mechanistic discussion of their interactions with key cellular signal transduction pathways as well as their contribution to the suppression of breast cancer cell growth', 'Purpose To further clarify the relationship between total cholesterol and cancer which remains unclear Methods We prospectively examined the association between total cholesterol and sitespecific and allcancer incidence among 1189719 Korean adults enrolled in the National Health Insurance Corporation who underwent a standardized biennial medical examination in 1992 to 1995 and were observed for 14 years until cancer diagnosis or death Results Over followup 53944 men and 24475 women were diagnosed with a primary cancer Compared with levels less than 160 mgdL high total cholesterol  240 mgdL was positively associated with prostate cancer hazard ratio HR 124 95 CI 107 to 144 P trend  001 and colon cancer HR 112 95 CI 100 to 125 P trend  05 in men and breast cancer in women HR 117 95 CI 103 to 133 P trend  03 Higher total cholesterol was associated with a lower incidence of liver cancer men HR 042 95 CI 038 to 045 P trend  001 women HR 032 95 CI 027 to 039 P trend  001 stomach cancer men HR 087 95 CI 082 to 093 P trend  001 women HR 086 95 CI 077 to 097 P trend  06 and in men lung cancer HR 089 95 CI 082 to 096 P trend  001 Results for liver cancer were slightly attenuated after additional adjustment for liver enzyme levels and hepatitis B surface antigen status men HR 060 P trend  001 women HR 046 P trend  003 and exclusion of the first 10 years of followup men HR 059 P trend  001 women HR 044 P trend  001 Total cholesterol was inversely associated with allcancer incidence in both men HR 084 95 CI 081 to 086 P trend  001 and women HR 091 95 CI 087 to 095 P trend  001 but these associations were attenuated after excluding incident liver cancers men HR 095 P trend  001 women HR 098 P trend  32 Conclusion In this large prospective study we found that total cholesterol was associated with the risk of several different cancers although these relationships differed markedly by cancer site']\n",
      "['The specific role of dietary fat in breast cancer progression is unclear although a lowfat diet was associated with decreased recurrence of estrogen receptor alpha negative ER breast cancer ER basallike MDAMB231 and MDAMB436 breast cancer cell lines contained a greater number of cytoplasmic lipid droplets compared to luminal ER MCF7 cells Therefore we studied lipid storage functions in these cells Both triacylglycerol and cholesteryl ester CE concentrations were higher in the ER cells but the ability to synthesize CE distinguished the two types of breast cancer cells Higher baseline oleic acid and LDLstimulated CE concentrations were found in ER compared to ER cells The differences corresponded to greater mRNA and protein levels of acylCoAcholesterol acyltransferase 1 ACAT1 higher ACAT activity higher caveolin1 protein levels greater LDL uptake and lower de novo cholesterol synthesis in ER cells Human LDL stimulated proliferation of ER MDAMB231 cells but had little effect on proliferation of ER MCF7 cells The functional significance of these findings was demonstrated by the observation that the ACAT inhibitor CP113818 reduced proliferation of breast cancer cells and specifically reduced LDLinduced proliferation of ER cells Taken together our studies show that a greater ability to take up store and utilize exogenous cholesterol confers a proliferative advantage to basallike ER breast cancer cells Differences in lipid uptake and storage capability may at least partially explain the differential effect of a lowfat diet on human breast cancer recurrence', 'Breast cancer is the leading cause of cancerrelated deaths in women in the United States and many other countries There is an immediate need for more effective and less toxic therapeutic and preventive strategies for many cancers especially for breast cancer Natural products are being tested with a hope of identifying novel potent molecules as anticancer agents Phytochemicals and dietary compounds have been used for the treatment of various illnesses throughout history due to their safety low toxicity and general availability Currently many active phytochemicals are in clinical trials Preclinical and clinical studies have indicated that daily consumption of dietary phytochemicals reduces the risk of several cancers Phytochemicals can inhibit delay or reverse carcinogenesis by inducing detoxifying and antioxidant enzymes by regulating inflammatoryproliferative signaling pathways and by inducing apoptosis This review article describes some of the potential natural cancer preventive compounds along with a mechanistic discussion of their interactions with key cellular signal transduction pathways as well as their contribution to the suppression of breast cancer cell growth', 'Purpose To further clarify the relationship between total cholesterol and cancer which remains unclear Methods We prospectively examined the association between total cholesterol and sitespecific and allcancer incidence among 1189719 Korean adults enrolled in the National Health Insurance Corporation who underwent a standardized biennial medical examination in 1992 to 1995 and were observed for 14 years until cancer diagnosis or death Results Over followup 53944 men and 24475 women were diagnosed with a primary cancer Compared with levels less than 160 mgdL high total cholesterol  240 mgdL was positively associated with prostate cancer hazard ratio HR 124 95 CI 107 to 144 P trend  001 and colon cancer HR 112 95 CI 100 to 125 P trend  05 in men and breast cancer in women HR 117 95 CI 103 to 133 P trend  03 Higher total cholesterol was associated with a lower incidence of liver cancer men HR 042 95 CI 038 to 045 P trend  001 women HR 032 95 CI 027 to 039 P trend  001 stomach cancer men HR 087 95 CI 082 to 093 P trend  001 women HR 086 95 CI 077 to 097 P trend  06 and in men lung cancer HR 089 95 CI 082 to 096 P trend  001 Results for liver cancer were slightly attenuated after additional adjustment for liver enzyme levels and hepatitis B surface antigen status men HR 060 P trend  001 women HR 046 P trend  003 and exclusion of the first 10 years of followup men HR 059 P trend  001 women HR 044 P trend  001 Total cholesterol was inversely associated with allcancer incidence in both men HR 084 95 CI 081 to 086 P trend  001 and women HR 091 95 CI 087 to 095 P trend  001 but these associations were attenuated after excluding incident liver cancers men HR 095 P trend  001 women HR 098 P trend  32 Conclusion In this large prospective study we found that total cholesterol was associated with the risk of several different cancers although these relationships differed markedly by cancer site', 'Breast cancer is the leading cause of cancerrelated deaths for women in the United States and the rest of the world About 8 of women develop breast cancer during the course of their lives Dietary habits are closely associated with both the risk and progression of breast cancer Dietary agents have accumulated increasing importance with regards to the prevention and treatment of breast cancer One such manner by which these compounds can target breast cancer development and progression is through interference with the angiogenic pathways Angiogenesis is an intricate process that involves the development of new capillaries from previously existing blood vessels Disruption of this pathway therefore provides a novel and effective avenue for therapeutic intervention of breast cancer Various phytochemicals found in the diet kill breast cancer cells in vitro and prevent as well as suppress breast cancer progression in various preclinical animal models This review examines the value of dietary phytoconstituents in the prevention and treatment of breast cancer through modulation of the intricate and complex process of angiogenesis In addition the potential benefits challenges and future directions of research on antiangiogenic dietary phytochemicals in the prevention and intervention of breast cancer are also addressed Copyright  2012 WILEYVCH Verlag GmbH  Co KGaA Weinheim']\n",
      "['The specific role of dietary fat in breast cancer progression is unclear although a lowfat diet was associated with decreased recurrence of estrogen receptor alpha negative ER breast cancer ER basallike MDAMB231 and MDAMB436 breast cancer cell lines contained a greater number of cytoplasmic lipid droplets compared to luminal ER MCF7 cells Therefore we studied lipid storage functions in these cells Both triacylglycerol and cholesteryl ester CE concentrations were higher in the ER cells but the ability to synthesize CE distinguished the two types of breast cancer cells Higher baseline oleic acid and LDLstimulated CE concentrations were found in ER compared to ER cells The differences corresponded to greater mRNA and protein levels of acylCoAcholesterol acyltransferase 1 ACAT1 higher ACAT activity higher caveolin1 protein levels greater LDL uptake and lower de novo cholesterol synthesis in ER cells Human LDL stimulated proliferation of ER MDAMB231 cells but had little effect on proliferation of ER MCF7 cells The functional significance of these findings was demonstrated by the observation that the ACAT inhibitor CP113818 reduced proliferation of breast cancer cells and specifically reduced LDLinduced proliferation of ER cells Taken together our studies show that a greater ability to take up store and utilize exogenous cholesterol confers a proliferative advantage to basallike ER breast cancer cells Differences in lipid uptake and storage capability may at least partially explain the differential effect of a lowfat diet on human breast cancer recurrence', 'Breast cancer is the leading cause of cancerrelated deaths in women in the United States and many other countries There is an immediate need for more effective and less toxic therapeutic and preventive strategies for many cancers especially for breast cancer Natural products are being tested with a hope of identifying novel potent molecules as anticancer agents Phytochemicals and dietary compounds have been used for the treatment of various illnesses throughout history due to their safety low toxicity and general availability Currently many active phytochemicals are in clinical trials Preclinical and clinical studies have indicated that daily consumption of dietary phytochemicals reduces the risk of several cancers Phytochemicals can inhibit delay or reverse carcinogenesis by inducing detoxifying and antioxidant enzymes by regulating inflammatoryproliferative signaling pathways and by inducing apoptosis This review article describes some of the potential natural cancer preventive compounds along with a mechanistic discussion of their interactions with key cellular signal transduction pathways as well as their contribution to the suppression of breast cancer cell growth', 'Purpose To further clarify the relationship between total cholesterol and cancer which remains unclear Methods We prospectively examined the association between total cholesterol and sitespecific and allcancer incidence among 1189719 Korean adults enrolled in the National Health Insurance Corporation who underwent a standardized biennial medical examination in 1992 to 1995 and were observed for 14 years until cancer diagnosis or death Results Over followup 53944 men and 24475 women were diagnosed with a primary cancer Compared with levels less than 160 mgdL high total cholesterol  240 mgdL was positively associated with prostate cancer hazard ratio HR 124 95 CI 107 to 144 P trend  001 and colon cancer HR 112 95 CI 100 to 125 P trend  05 in men and breast cancer in women HR 117 95 CI 103 to 133 P trend  03 Higher total cholesterol was associated with a lower incidence of liver cancer men HR 042 95 CI 038 to 045 P trend  001 women HR 032 95 CI 027 to 039 P trend  001 stomach cancer men HR 087 95 CI 082 to 093 P trend  001 women HR 086 95 CI 077 to 097 P trend  06 and in men lung cancer HR 089 95 CI 082 to 096 P trend  001 Results for liver cancer were slightly attenuated after additional adjustment for liver enzyme levels and hepatitis B surface antigen status men HR 060 P trend  001 women HR 046 P trend  003 and exclusion of the first 10 years of followup men HR 059 P trend  001 women HR 044 P trend  001 Total cholesterol was inversely associated with allcancer incidence in both men HR 084 95 CI 081 to 086 P trend  001 and women HR 091 95 CI 087 to 095 P trend  001 but these associations were attenuated after excluding incident liver cancers men HR 095 P trend  001 women HR 098 P trend  32 Conclusion In this large prospective study we found that total cholesterol was associated with the risk of several different cancers although these relationships differed markedly by cancer site', 'Breast cancer is the leading cause of cancerrelated deaths for women in the United States and the rest of the world About 8 of women develop breast cancer during the course of their lives Dietary habits are closely associated with both the risk and progression of breast cancer Dietary agents have accumulated increasing importance with regards to the prevention and treatment of breast cancer One such manner by which these compounds can target breast cancer development and progression is through interference with the angiogenic pathways Angiogenesis is an intricate process that involves the development of new capillaries from previously existing blood vessels Disruption of this pathway therefore provides a novel and effective avenue for therapeutic intervention of breast cancer Various phytochemicals found in the diet kill breast cancer cells in vitro and prevent as well as suppress breast cancer progression in various preclinical animal models This review examines the value of dietary phytoconstituents in the prevention and treatment of breast cancer through modulation of the intricate and complex process of angiogenesis In addition the potential benefits challenges and future directions of research on antiangiogenic dietary phytochemicals in the prevention and intervention of breast cancer are also addressed Copyright  2012 WILEYVCH Verlag GmbH  Co KGaA Weinheim', 'Docosahexaenoic acid DHA is an omega3 fatty acid that comprises 22 carbons and 6 alternative double bonds in its hydrocarbon chain 226omega3 Previous studies have shown that DHA from fish oil controls the growth and development of different cancers however safety issues have been raised repeatedly about contamination of toxins in fish oil that makes it no longer a clean and safe source of the fatty acid We investigated the cell growth inhibition of DHA from the cultured microalga Crypthecodinium cohnii algal DHA aDHA in human breast carcinoma MCF7 cells aDHA exhibited growth inhibition on breast cancer cells dosedependently by 160 to 590 of the control level after 72h incubations with 40 to 160 microM of the fatty acid DNA flow cytometry shows that aDHA induced subG1 cells or apoptotic cells by 644 to 1713 of the control levels after incubations with 80 mM of the fatty acid for 24 48 and 72 h Western blot studies further show that aDHA did not modulate the expression of proapoptotic Bax protein but induced the downregulation of antiapoptotic Bcl2 expression timedependently causing increases of BaxBcl2 ratio by 3034 and 3865 after 48 and 72h incubations respectively with the fatty acid Results from this study suggest that DHA from the cultured microalga is also effective in controlling cancer cell growth and that downregulation of antiapoptotic Bcl2 is an important step in the induced apoptosis']\n"
     ]
    }
   ],
   "source": [
    "small_top_k=[]\n",
    "print(\"Top-k Passages from Small Model:\")\n",
    "for idx in small_top_k_indices:\n",
    "    s=clean_passages[idx]\n",
    "    small_top_k.append(s)\n",
    "    print(small_top_k)"
   ]
  },
  {
   "cell_type": "code",
   "execution_count": 25,
   "id": "6a43270d",
   "metadata": {},
   "outputs": [
    {
     "name": "stdout",
     "output_type": "stream",
     "text": [
      "\n",
      "Top-k Passages from Large Model:\n",
      "['The specific role of dietary fat in breast cancer progression is unclear although a lowfat diet was associated with decreased recurrence of estrogen receptor alpha negative ER breast cancer ER basallike MDAMB231 and MDAMB436 breast cancer cell lines contained a greater number of cytoplasmic lipid droplets compared to luminal ER MCF7 cells Therefore we studied lipid storage functions in these cells Both triacylglycerol and cholesteryl ester CE concentrations were higher in the ER cells but the ability to synthesize CE distinguished the two types of breast cancer cells Higher baseline oleic acid and LDLstimulated CE concentrations were found in ER compared to ER cells The differences corresponded to greater mRNA and protein levels of acylCoAcholesterol acyltransferase 1 ACAT1 higher ACAT activity higher caveolin1 protein levels greater LDL uptake and lower de novo cholesterol synthesis in ER cells Human LDL stimulated proliferation of ER MDAMB231 cells but had little effect on proliferation of ER MCF7 cells The functional significance of these findings was demonstrated by the observation that the ACAT inhibitor CP113818 reduced proliferation of breast cancer cells and specifically reduced LDLinduced proliferation of ER cells Taken together our studies show that a greater ability to take up store and utilize exogenous cholesterol confers a proliferative advantage to basallike ER breast cancer cells Differences in lipid uptake and storage capability may at least partially explain the differential effect of a lowfat diet on human breast cancer recurrence']\n",
      "['The specific role of dietary fat in breast cancer progression is unclear although a lowfat diet was associated with decreased recurrence of estrogen receptor alpha negative ER breast cancer ER basallike MDAMB231 and MDAMB436 breast cancer cell lines contained a greater number of cytoplasmic lipid droplets compared to luminal ER MCF7 cells Therefore we studied lipid storage functions in these cells Both triacylglycerol and cholesteryl ester CE concentrations were higher in the ER cells but the ability to synthesize CE distinguished the two types of breast cancer cells Higher baseline oleic acid and LDLstimulated CE concentrations were found in ER compared to ER cells The differences corresponded to greater mRNA and protein levels of acylCoAcholesterol acyltransferase 1 ACAT1 higher ACAT activity higher caveolin1 protein levels greater LDL uptake and lower de novo cholesterol synthesis in ER cells Human LDL stimulated proliferation of ER MDAMB231 cells but had little effect on proliferation of ER MCF7 cells The functional significance of these findings was demonstrated by the observation that the ACAT inhibitor CP113818 reduced proliferation of breast cancer cells and specifically reduced LDLinduced proliferation of ER cells Taken together our studies show that a greater ability to take up store and utilize exogenous cholesterol confers a proliferative advantage to basallike ER breast cancer cells Differences in lipid uptake and storage capability may at least partially explain the differential effect of a lowfat diet on human breast cancer recurrence', 'Breast cancer is the leading cause of cancerrelated deaths for women in the United States and the rest of the world About 8 of women develop breast cancer during the course of their lives Dietary habits are closely associated with both the risk and progression of breast cancer Dietary agents have accumulated increasing importance with regards to the prevention and treatment of breast cancer One such manner by which these compounds can target breast cancer development and progression is through interference with the angiogenic pathways Angiogenesis is an intricate process that involves the development of new capillaries from previously existing blood vessels Disruption of this pathway therefore provides a novel and effective avenue for therapeutic intervention of breast cancer Various phytochemicals found in the diet kill breast cancer cells in vitro and prevent as well as suppress breast cancer progression in various preclinical animal models This review examines the value of dietary phytoconstituents in the prevention and treatment of breast cancer through modulation of the intricate and complex process of angiogenesis In addition the potential benefits challenges and future directions of research on antiangiogenic dietary phytochemicals in the prevention and intervention of breast cancer are also addressed Copyright  2012 WILEYVCH Verlag GmbH  Co KGaA Weinheim']\n",
      "['The specific role of dietary fat in breast cancer progression is unclear although a lowfat diet was associated with decreased recurrence of estrogen receptor alpha negative ER breast cancer ER basallike MDAMB231 and MDAMB436 breast cancer cell lines contained a greater number of cytoplasmic lipid droplets compared to luminal ER MCF7 cells Therefore we studied lipid storage functions in these cells Both triacylglycerol and cholesteryl ester CE concentrations were higher in the ER cells but the ability to synthesize CE distinguished the two types of breast cancer cells Higher baseline oleic acid and LDLstimulated CE concentrations were found in ER compared to ER cells The differences corresponded to greater mRNA and protein levels of acylCoAcholesterol acyltransferase 1 ACAT1 higher ACAT activity higher caveolin1 protein levels greater LDL uptake and lower de novo cholesterol synthesis in ER cells Human LDL stimulated proliferation of ER MDAMB231 cells but had little effect on proliferation of ER MCF7 cells The functional significance of these findings was demonstrated by the observation that the ACAT inhibitor CP113818 reduced proliferation of breast cancer cells and specifically reduced LDLinduced proliferation of ER cells Taken together our studies show that a greater ability to take up store and utilize exogenous cholesterol confers a proliferative advantage to basallike ER breast cancer cells Differences in lipid uptake and storage capability may at least partially explain the differential effect of a lowfat diet on human breast cancer recurrence', 'Breast cancer is the leading cause of cancerrelated deaths for women in the United States and the rest of the world About 8 of women develop breast cancer during the course of their lives Dietary habits are closely associated with both the risk and progression of breast cancer Dietary agents have accumulated increasing importance with regards to the prevention and treatment of breast cancer One such manner by which these compounds can target breast cancer development and progression is through interference with the angiogenic pathways Angiogenesis is an intricate process that involves the development of new capillaries from previously existing blood vessels Disruption of this pathway therefore provides a novel and effective avenue for therapeutic intervention of breast cancer Various phytochemicals found in the diet kill breast cancer cells in vitro and prevent as well as suppress breast cancer progression in various preclinical animal models This review examines the value of dietary phytoconstituents in the prevention and treatment of breast cancer through modulation of the intricate and complex process of angiogenesis In addition the potential benefits challenges and future directions of research on antiangiogenic dietary phytochemicals in the prevention and intervention of breast cancer are also addressed Copyright  2012 WILEYVCH Verlag GmbH  Co KGaA Weinheim', 'OBJECTIVE High concentrations of plasma deoxycholic acid DCA are found in human breast cyst fluid and it has been hypothesised that this may be related to risk of breast cancer The aim of this pilot study was to ascertain whether plasma bile acid concentrations were greater in women with breast cancer DESIGN A casecontrol study comparing postmenopausal women with breast cancer with healthy controls was conducted SUBJECTS Twenty Caucasian postmenopausal breast cancer patients were recruited at the time of diagnosis together with 20 healthy controls matched for age and body mass index Exclusion criteria included any treatment for breast cancer use of hormone replacement therapy in the last 12 months diabetes mellitus a history of liver or gall bladder disease or abnormal liver function MEASUREMENTS Fasting plasma bile acid concentrations were determined by gasliquid chromatographymass spectrometry RESULTS The mean plasma DCA concentration was 52 higher P0012 in patients with breast cancer compared with controls CONCLUSION These results support the hypothesis that DCA may be involved in the aetiology of breast cancer']\n",
      "['The specific role of dietary fat in breast cancer progression is unclear although a lowfat diet was associated with decreased recurrence of estrogen receptor alpha negative ER breast cancer ER basallike MDAMB231 and MDAMB436 breast cancer cell lines contained a greater number of cytoplasmic lipid droplets compared to luminal ER MCF7 cells Therefore we studied lipid storage functions in these cells Both triacylglycerol and cholesteryl ester CE concentrations were higher in the ER cells but the ability to synthesize CE distinguished the two types of breast cancer cells Higher baseline oleic acid and LDLstimulated CE concentrations were found in ER compared to ER cells The differences corresponded to greater mRNA and protein levels of acylCoAcholesterol acyltransferase 1 ACAT1 higher ACAT activity higher caveolin1 protein levels greater LDL uptake and lower de novo cholesterol synthesis in ER cells Human LDL stimulated proliferation of ER MDAMB231 cells but had little effect on proliferation of ER MCF7 cells The functional significance of these findings was demonstrated by the observation that the ACAT inhibitor CP113818 reduced proliferation of breast cancer cells and specifically reduced LDLinduced proliferation of ER cells Taken together our studies show that a greater ability to take up store and utilize exogenous cholesterol confers a proliferative advantage to basallike ER breast cancer cells Differences in lipid uptake and storage capability may at least partially explain the differential effect of a lowfat diet on human breast cancer recurrence', 'Breast cancer is the leading cause of cancerrelated deaths for women in the United States and the rest of the world About 8 of women develop breast cancer during the course of their lives Dietary habits are closely associated with both the risk and progression of breast cancer Dietary agents have accumulated increasing importance with regards to the prevention and treatment of breast cancer One such manner by which these compounds can target breast cancer development and progression is through interference with the angiogenic pathways Angiogenesis is an intricate process that involves the development of new capillaries from previously existing blood vessels Disruption of this pathway therefore provides a novel and effective avenue for therapeutic intervention of breast cancer Various phytochemicals found in the diet kill breast cancer cells in vitro and prevent as well as suppress breast cancer progression in various preclinical animal models This review examines the value of dietary phytoconstituents in the prevention and treatment of breast cancer through modulation of the intricate and complex process of angiogenesis In addition the potential benefits challenges and future directions of research on antiangiogenic dietary phytochemicals in the prevention and intervention of breast cancer are also addressed Copyright  2012 WILEYVCH Verlag GmbH  Co KGaA Weinheim', 'OBJECTIVE High concentrations of plasma deoxycholic acid DCA are found in human breast cyst fluid and it has been hypothesised that this may be related to risk of breast cancer The aim of this pilot study was to ascertain whether plasma bile acid concentrations were greater in women with breast cancer DESIGN A casecontrol study comparing postmenopausal women with breast cancer with healthy controls was conducted SUBJECTS Twenty Caucasian postmenopausal breast cancer patients were recruited at the time of diagnosis together with 20 healthy controls matched for age and body mass index Exclusion criteria included any treatment for breast cancer use of hormone replacement therapy in the last 12 months diabetes mellitus a history of liver or gall bladder disease or abnormal liver function MEASUREMENTS Fasting plasma bile acid concentrations were determined by gasliquid chromatographymass spectrometry RESULTS The mean plasma DCA concentration was 52 higher P0012 in patients with breast cancer compared with controls CONCLUSION These results support the hypothesis that DCA may be involved in the aetiology of breast cancer', 'Lipid raftscaveolae are membrane platforms for signaling molecules that regulate various cellular functions including cell survival To better understand the role of rafts in tumor progression and therapeutics we investigated the effect of raft disruption on cell viability and compared raft levels in human cancer cell lines versus their normal counterparts Here we report that cholesterol depletion using methylβ cyclodextrin caused anoikislike apoptosis which in A431 cells involved decreased raft levels BclxL downregulation caspase3 activation and Akt inactivation regardless of epidermal growth factor receptor activation Cholesterol repletion replenished rafts on the cell surface and restored Akt activation and cell viability Moreover the breast cancer and the prostate cancer cell lines contained more lipid rafts and were more sensitive to cholesterol depletioninduced cell death than their normal counterparts These results indicate that cancer cells contain increased levels of rafts and suggest a potential use of raftmodulating agents as anticancer drugs']\n",
      "['The specific role of dietary fat in breast cancer progression is unclear although a lowfat diet was associated with decreased recurrence of estrogen receptor alpha negative ER breast cancer ER basallike MDAMB231 and MDAMB436 breast cancer cell lines contained a greater number of cytoplasmic lipid droplets compared to luminal ER MCF7 cells Therefore we studied lipid storage functions in these cells Both triacylglycerol and cholesteryl ester CE concentrations were higher in the ER cells but the ability to synthesize CE distinguished the two types of breast cancer cells Higher baseline oleic acid and LDLstimulated CE concentrations were found in ER compared to ER cells The differences corresponded to greater mRNA and protein levels of acylCoAcholesterol acyltransferase 1 ACAT1 higher ACAT activity higher caveolin1 protein levels greater LDL uptake and lower de novo cholesterol synthesis in ER cells Human LDL stimulated proliferation of ER MDAMB231 cells but had little effect on proliferation of ER MCF7 cells The functional significance of these findings was demonstrated by the observation that the ACAT inhibitor CP113818 reduced proliferation of breast cancer cells and specifically reduced LDLinduced proliferation of ER cells Taken together our studies show that a greater ability to take up store and utilize exogenous cholesterol confers a proliferative advantage to basallike ER breast cancer cells Differences in lipid uptake and storage capability may at least partially explain the differential effect of a lowfat diet on human breast cancer recurrence', 'Breast cancer is the leading cause of cancerrelated deaths for women in the United States and the rest of the world About 8 of women develop breast cancer during the course of their lives Dietary habits are closely associated with both the risk and progression of breast cancer Dietary agents have accumulated increasing importance with regards to the prevention and treatment of breast cancer One such manner by which these compounds can target breast cancer development and progression is through interference with the angiogenic pathways Angiogenesis is an intricate process that involves the development of new capillaries from previously existing blood vessels Disruption of this pathway therefore provides a novel and effective avenue for therapeutic intervention of breast cancer Various phytochemicals found in the diet kill breast cancer cells in vitro and prevent as well as suppress breast cancer progression in various preclinical animal models This review examines the value of dietary phytoconstituents in the prevention and treatment of breast cancer through modulation of the intricate and complex process of angiogenesis In addition the potential benefits challenges and future directions of research on antiangiogenic dietary phytochemicals in the prevention and intervention of breast cancer are also addressed Copyright  2012 WILEYVCH Verlag GmbH  Co KGaA Weinheim', 'OBJECTIVE High concentrations of plasma deoxycholic acid DCA are found in human breast cyst fluid and it has been hypothesised that this may be related to risk of breast cancer The aim of this pilot study was to ascertain whether plasma bile acid concentrations were greater in women with breast cancer DESIGN A casecontrol study comparing postmenopausal women with breast cancer with healthy controls was conducted SUBJECTS Twenty Caucasian postmenopausal breast cancer patients were recruited at the time of diagnosis together with 20 healthy controls matched for age and body mass index Exclusion criteria included any treatment for breast cancer use of hormone replacement therapy in the last 12 months diabetes mellitus a history of liver or gall bladder disease or abnormal liver function MEASUREMENTS Fasting plasma bile acid concentrations were determined by gasliquid chromatographymass spectrometry RESULTS The mean plasma DCA concentration was 52 higher P0012 in patients with breast cancer compared with controls CONCLUSION These results support the hypothesis that DCA may be involved in the aetiology of breast cancer', 'Lipid raftscaveolae are membrane platforms for signaling molecules that regulate various cellular functions including cell survival To better understand the role of rafts in tumor progression and therapeutics we investigated the effect of raft disruption on cell viability and compared raft levels in human cancer cell lines versus their normal counterparts Here we report that cholesterol depletion using methylβ cyclodextrin caused anoikislike apoptosis which in A431 cells involved decreased raft levels BclxL downregulation caspase3 activation and Akt inactivation regardless of epidermal growth factor receptor activation Cholesterol repletion replenished rafts on the cell surface and restored Akt activation and cell viability Moreover the breast cancer and the prostate cancer cell lines contained more lipid rafts and were more sensitive to cholesterol depletioninduced cell death than their normal counterparts These results indicate that cancer cells contain increased levels of rafts and suggest a potential use of raftmodulating agents as anticancer drugs', 'Breast cancer is the leading cause of cancerrelated deaths in women in the United States and many other countries There is an immediate need for more effective and less toxic therapeutic and preventive strategies for many cancers especially for breast cancer Natural products are being tested with a hope of identifying novel potent molecules as anticancer agents Phytochemicals and dietary compounds have been used for the treatment of various illnesses throughout history due to their safety low toxicity and general availability Currently many active phytochemicals are in clinical trials Preclinical and clinical studies have indicated that daily consumption of dietary phytochemicals reduces the risk of several cancers Phytochemicals can inhibit delay or reverse carcinogenesis by inducing detoxifying and antioxidant enzymes by regulating inflammatoryproliferative signaling pathways and by inducing apoptosis This review article describes some of the potential natural cancer preventive compounds along with a mechanistic discussion of their interactions with key cellular signal transduction pathways as well as their contribution to the suppression of breast cancer cell growth']\n"
     ]
    }
   ],
   "source": [
    "print(\"\\nTop-k Passages from Large Model:\")\n",
    "large_top_k=[]\n",
    "for idx in large_top_k_indices:\n",
    "    l=clean_passages[idx]\n",
    "    large_top_k.append(l)\n",
    "    print(large_top_k)"
   ]
  },
  {
   "cell_type": "markdown",
   "id": "a7ec4b51",
   "metadata": {},
   "source": [
    "###  ranking model"
   ]
  },
  {
   "cell_type": "code",
   "execution_count": 26,
   "id": "fd419a1e",
   "metadata": {},
   "outputs": [
    {
     "name": "stderr",
     "output_type": "stream",
     "text": [
      "C:\\Users\\Samiksha\\AppData\\Local\\Programs\\Python\\Python310\\lib\\site-packages\\transformers\\tokenization_utils_base.py:1601: FutureWarning: `clean_up_tokenization_spaces` was not set. It will be set to `True` by default. This behavior will be depracted in transformers v4.45, and will be then set to `False` by default. For more details check this issue: https://github.com/huggingface/transformers/issues/31884\n",
      "  warnings.warn(\n",
      "C:\\Users\\Samiksha\\AppData\\Local\\Programs\\Python\\Python310\\lib\\site-packages\\torch\\_utils.py:776: UserWarning: TypedStorage is deprecated. It will be removed in the future and UntypedStorage will be the only storage class. This should only matter to you if you are using storages directly.  To access UntypedStorage directly, use tensor.untyped_storage() instead of tensor.storage()\n",
      "  return self.fget.__get__(instance, owner)()\n"
     ]
    }
   ],
   "source": [
    "from transformers import AutoTokenizer, AutoModelForSequenceClassification\n",
    "ranking_tokenizer = AutoTokenizer.from_pretrained(\"cross-encoder/ms-marco-MiniLM-L-12-v2\")\n",
    "ranking_model = AutoModelForSequenceClassification.from_pretrained(\"cross-encoder/ms-marco-MiniLM-L-12-v2\")"
   ]
  },
  {
   "cell_type": "code",
   "execution_count": null,
   "id": "4f8a0981",
   "metadata": {},
   "outputs": [],
   "source": [
    "#### as there is same output in small_top_k and large_top_k, I am using small_top_k list\n"
   ]
  },
  {
   "cell_type": "code",
   "execution_count": 27,
   "id": "9e7c8acd",
   "metadata": {},
   "outputs": [],
   "source": [
    "combined_top_k_passages = small_top_k+large_top_k"
   ]
  },
  {
   "cell_type": "code",
   "execution_count": 28,
   "id": "60511a12",
   "metadata": {},
   "outputs": [
    {
     "data": {
      "text/plain": [
       "['The specific role of dietary fat in breast cancer progression is unclear although a lowfat diet was associated with decreased recurrence of estrogen receptor alpha negative ER breast cancer ER basallike MDAMB231 and MDAMB436 breast cancer cell lines contained a greater number of cytoplasmic lipid droplets compared to luminal ER MCF7 cells Therefore we studied lipid storage functions in these cells Both triacylglycerol and cholesteryl ester CE concentrations were higher in the ER cells but the ability to synthesize CE distinguished the two types of breast cancer cells Higher baseline oleic acid and LDLstimulated CE concentrations were found in ER compared to ER cells The differences corresponded to greater mRNA and protein levels of acylCoAcholesterol acyltransferase 1 ACAT1 higher ACAT activity higher caveolin1 protein levels greater LDL uptake and lower de novo cholesterol synthesis in ER cells Human LDL stimulated proliferation of ER MDAMB231 cells but had little effect on proliferation of ER MCF7 cells The functional significance of these findings was demonstrated by the observation that the ACAT inhibitor CP113818 reduced proliferation of breast cancer cells and specifically reduced LDLinduced proliferation of ER cells Taken together our studies show that a greater ability to take up store and utilize exogenous cholesterol confers a proliferative advantage to basallike ER breast cancer cells Differences in lipid uptake and storage capability may at least partially explain the differential effect of a lowfat diet on human breast cancer recurrence',\n",
       " 'Breast cancer is the leading cause of cancerrelated deaths in women in the United States and many other countries There is an immediate need for more effective and less toxic therapeutic and preventive strategies for many cancers especially for breast cancer Natural products are being tested with a hope of identifying novel potent molecules as anticancer agents Phytochemicals and dietary compounds have been used for the treatment of various illnesses throughout history due to their safety low toxicity and general availability Currently many active phytochemicals are in clinical trials Preclinical and clinical studies have indicated that daily consumption of dietary phytochemicals reduces the risk of several cancers Phytochemicals can inhibit delay or reverse carcinogenesis by inducing detoxifying and antioxidant enzymes by regulating inflammatoryproliferative signaling pathways and by inducing apoptosis This review article describes some of the potential natural cancer preventive compounds along with a mechanistic discussion of their interactions with key cellular signal transduction pathways as well as their contribution to the suppression of breast cancer cell growth',\n",
       " 'Purpose To further clarify the relationship between total cholesterol and cancer which remains unclear Methods We prospectively examined the association between total cholesterol and sitespecific and allcancer incidence among 1189719 Korean adults enrolled in the National Health Insurance Corporation who underwent a standardized biennial medical examination in 1992 to 1995 and were observed for 14 years until cancer diagnosis or death Results Over followup 53944 men and 24475 women were diagnosed with a primary cancer Compared with levels less than 160 mgdL high total cholesterol  240 mgdL was positively associated with prostate cancer hazard ratio HR 124 95 CI 107 to 144 P trend  001 and colon cancer HR 112 95 CI 100 to 125 P trend  05 in men and breast cancer in women HR 117 95 CI 103 to 133 P trend  03 Higher total cholesterol was associated with a lower incidence of liver cancer men HR 042 95 CI 038 to 045 P trend  001 women HR 032 95 CI 027 to 039 P trend  001 stomach cancer men HR 087 95 CI 082 to 093 P trend  001 women HR 086 95 CI 077 to 097 P trend  06 and in men lung cancer HR 089 95 CI 082 to 096 P trend  001 Results for liver cancer were slightly attenuated after additional adjustment for liver enzyme levels and hepatitis B surface antigen status men HR 060 P trend  001 women HR 046 P trend  003 and exclusion of the first 10 years of followup men HR 059 P trend  001 women HR 044 P trend  001 Total cholesterol was inversely associated with allcancer incidence in both men HR 084 95 CI 081 to 086 P trend  001 and women HR 091 95 CI 087 to 095 P trend  001 but these associations were attenuated after excluding incident liver cancers men HR 095 P trend  001 women HR 098 P trend  32 Conclusion In this large prospective study we found that total cholesterol was associated with the risk of several different cancers although these relationships differed markedly by cancer site',\n",
       " 'Breast cancer is the leading cause of cancerrelated deaths for women in the United States and the rest of the world About 8 of women develop breast cancer during the course of their lives Dietary habits are closely associated with both the risk and progression of breast cancer Dietary agents have accumulated increasing importance with regards to the prevention and treatment of breast cancer One such manner by which these compounds can target breast cancer development and progression is through interference with the angiogenic pathways Angiogenesis is an intricate process that involves the development of new capillaries from previously existing blood vessels Disruption of this pathway therefore provides a novel and effective avenue for therapeutic intervention of breast cancer Various phytochemicals found in the diet kill breast cancer cells in vitro and prevent as well as suppress breast cancer progression in various preclinical animal models This review examines the value of dietary phytoconstituents in the prevention and treatment of breast cancer through modulation of the intricate and complex process of angiogenesis In addition the potential benefits challenges and future directions of research on antiangiogenic dietary phytochemicals in the prevention and intervention of breast cancer are also addressed Copyright  2012 WILEYVCH Verlag GmbH  Co KGaA Weinheim',\n",
       " 'Docosahexaenoic acid DHA is an omega3 fatty acid that comprises 22 carbons and 6 alternative double bonds in its hydrocarbon chain 226omega3 Previous studies have shown that DHA from fish oil controls the growth and development of different cancers however safety issues have been raised repeatedly about contamination of toxins in fish oil that makes it no longer a clean and safe source of the fatty acid We investigated the cell growth inhibition of DHA from the cultured microalga Crypthecodinium cohnii algal DHA aDHA in human breast carcinoma MCF7 cells aDHA exhibited growth inhibition on breast cancer cells dosedependently by 160 to 590 of the control level after 72h incubations with 40 to 160 microM of the fatty acid DNA flow cytometry shows that aDHA induced subG1 cells or apoptotic cells by 644 to 1713 of the control levels after incubations with 80 mM of the fatty acid for 24 48 and 72 h Western blot studies further show that aDHA did not modulate the expression of proapoptotic Bax protein but induced the downregulation of antiapoptotic Bcl2 expression timedependently causing increases of BaxBcl2 ratio by 3034 and 3865 after 48 and 72h incubations respectively with the fatty acid Results from this study suggest that DHA from the cultured microalga is also effective in controlling cancer cell growth and that downregulation of antiapoptotic Bcl2 is an important step in the induced apoptosis',\n",
       " 'The specific role of dietary fat in breast cancer progression is unclear although a lowfat diet was associated with decreased recurrence of estrogen receptor alpha negative ER breast cancer ER basallike MDAMB231 and MDAMB436 breast cancer cell lines contained a greater number of cytoplasmic lipid droplets compared to luminal ER MCF7 cells Therefore we studied lipid storage functions in these cells Both triacylglycerol and cholesteryl ester CE concentrations were higher in the ER cells but the ability to synthesize CE distinguished the two types of breast cancer cells Higher baseline oleic acid and LDLstimulated CE concentrations were found in ER compared to ER cells The differences corresponded to greater mRNA and protein levels of acylCoAcholesterol acyltransferase 1 ACAT1 higher ACAT activity higher caveolin1 protein levels greater LDL uptake and lower de novo cholesterol synthesis in ER cells Human LDL stimulated proliferation of ER MDAMB231 cells but had little effect on proliferation of ER MCF7 cells The functional significance of these findings was demonstrated by the observation that the ACAT inhibitor CP113818 reduced proliferation of breast cancer cells and specifically reduced LDLinduced proliferation of ER cells Taken together our studies show that a greater ability to take up store and utilize exogenous cholesterol confers a proliferative advantage to basallike ER breast cancer cells Differences in lipid uptake and storage capability may at least partially explain the differential effect of a lowfat diet on human breast cancer recurrence',\n",
       " 'Breast cancer is the leading cause of cancerrelated deaths for women in the United States and the rest of the world About 8 of women develop breast cancer during the course of their lives Dietary habits are closely associated with both the risk and progression of breast cancer Dietary agents have accumulated increasing importance with regards to the prevention and treatment of breast cancer One such manner by which these compounds can target breast cancer development and progression is through interference with the angiogenic pathways Angiogenesis is an intricate process that involves the development of new capillaries from previously existing blood vessels Disruption of this pathway therefore provides a novel and effective avenue for therapeutic intervention of breast cancer Various phytochemicals found in the diet kill breast cancer cells in vitro and prevent as well as suppress breast cancer progression in various preclinical animal models This review examines the value of dietary phytoconstituents in the prevention and treatment of breast cancer through modulation of the intricate and complex process of angiogenesis In addition the potential benefits challenges and future directions of research on antiangiogenic dietary phytochemicals in the prevention and intervention of breast cancer are also addressed Copyright  2012 WILEYVCH Verlag GmbH  Co KGaA Weinheim',\n",
       " 'OBJECTIVE High concentrations of plasma deoxycholic acid DCA are found in human breast cyst fluid and it has been hypothesised that this may be related to risk of breast cancer The aim of this pilot study was to ascertain whether plasma bile acid concentrations were greater in women with breast cancer DESIGN A casecontrol study comparing postmenopausal women with breast cancer with healthy controls was conducted SUBJECTS Twenty Caucasian postmenopausal breast cancer patients were recruited at the time of diagnosis together with 20 healthy controls matched for age and body mass index Exclusion criteria included any treatment for breast cancer use of hormone replacement therapy in the last 12 months diabetes mellitus a history of liver or gall bladder disease or abnormal liver function MEASUREMENTS Fasting plasma bile acid concentrations were determined by gasliquid chromatographymass spectrometry RESULTS The mean plasma DCA concentration was 52 higher P0012 in patients with breast cancer compared with controls CONCLUSION These results support the hypothesis that DCA may be involved in the aetiology of breast cancer',\n",
       " 'Lipid raftscaveolae are membrane platforms for signaling molecules that regulate various cellular functions including cell survival To better understand the role of rafts in tumor progression and therapeutics we investigated the effect of raft disruption on cell viability and compared raft levels in human cancer cell lines versus their normal counterparts Here we report that cholesterol depletion using methylβ cyclodextrin caused anoikislike apoptosis which in A431 cells involved decreased raft levels BclxL downregulation caspase3 activation and Akt inactivation regardless of epidermal growth factor receptor activation Cholesterol repletion replenished rafts on the cell surface and restored Akt activation and cell viability Moreover the breast cancer and the prostate cancer cell lines contained more lipid rafts and were more sensitive to cholesterol depletioninduced cell death than their normal counterparts These results indicate that cancer cells contain increased levels of rafts and suggest a potential use of raftmodulating agents as anticancer drugs',\n",
       " 'Breast cancer is the leading cause of cancerrelated deaths in women in the United States and many other countries There is an immediate need for more effective and less toxic therapeutic and preventive strategies for many cancers especially for breast cancer Natural products are being tested with a hope of identifying novel potent molecules as anticancer agents Phytochemicals and dietary compounds have been used for the treatment of various illnesses throughout history due to their safety low toxicity and general availability Currently many active phytochemicals are in clinical trials Preclinical and clinical studies have indicated that daily consumption of dietary phytochemicals reduces the risk of several cancers Phytochemicals can inhibit delay or reverse carcinogenesis by inducing detoxifying and antioxidant enzymes by regulating inflammatoryproliferative signaling pathways and by inducing apoptosis This review article describes some of the potential natural cancer preventive compounds along with a mechanistic discussion of their interactions with key cellular signal transduction pathways as well as their contribution to the suppression of breast cancer cell growth']"
      ]
     },
     "execution_count": 28,
     "metadata": {},
     "output_type": "execute_result"
    }
   ],
   "source": [
    "combined_top_k_passages"
   ]
  },
  {
   "cell_type": "code",
   "execution_count": 29,
   "id": "a876e36c",
   "metadata": {},
   "outputs": [],
   "source": [
    "query=\"Breast Cancer Cells Feed on Cholesterol\""
   ]
  },
  {
   "cell_type": "code",
   "execution_count": 30,
   "id": "fd3b9202",
   "metadata": {},
   "outputs": [],
   "source": [
    "query_passage_pairs = [(query, passage) for passage in combined_top_k_passages]"
   ]
  },
  {
   "cell_type": "code",
   "execution_count": 31,
   "id": "c43e7808",
   "metadata": {},
   "outputs": [
    {
     "data": {
      "text/plain": [
       "[('Breast Cancer Cells Feed on Cholesterol',\n",
       "  'The specific role of dietary fat in breast cancer progression is unclear although a lowfat diet was associated with decreased recurrence of estrogen receptor alpha negative ER breast cancer ER basallike MDAMB231 and MDAMB436 breast cancer cell lines contained a greater number of cytoplasmic lipid droplets compared to luminal ER MCF7 cells Therefore we studied lipid storage functions in these cells Both triacylglycerol and cholesteryl ester CE concentrations were higher in the ER cells but the ability to synthesize CE distinguished the two types of breast cancer cells Higher baseline oleic acid and LDLstimulated CE concentrations were found in ER compared to ER cells The differences corresponded to greater mRNA and protein levels of acylCoAcholesterol acyltransferase 1 ACAT1 higher ACAT activity higher caveolin1 protein levels greater LDL uptake and lower de novo cholesterol synthesis in ER cells Human LDL stimulated proliferation of ER MDAMB231 cells but had little effect on proliferation of ER MCF7 cells The functional significance of these findings was demonstrated by the observation that the ACAT inhibitor CP113818 reduced proliferation of breast cancer cells and specifically reduced LDLinduced proliferation of ER cells Taken together our studies show that a greater ability to take up store and utilize exogenous cholesterol confers a proliferative advantage to basallike ER breast cancer cells Differences in lipid uptake and storage capability may at least partially explain the differential effect of a lowfat diet on human breast cancer recurrence'),\n",
       " ('Breast Cancer Cells Feed on Cholesterol',\n",
       "  'Breast cancer is the leading cause of cancerrelated deaths in women in the United States and many other countries There is an immediate need for more effective and less toxic therapeutic and preventive strategies for many cancers especially for breast cancer Natural products are being tested with a hope of identifying novel potent molecules as anticancer agents Phytochemicals and dietary compounds have been used for the treatment of various illnesses throughout history due to their safety low toxicity and general availability Currently many active phytochemicals are in clinical trials Preclinical and clinical studies have indicated that daily consumption of dietary phytochemicals reduces the risk of several cancers Phytochemicals can inhibit delay or reverse carcinogenesis by inducing detoxifying and antioxidant enzymes by regulating inflammatoryproliferative signaling pathways and by inducing apoptosis This review article describes some of the potential natural cancer preventive compounds along with a mechanistic discussion of their interactions with key cellular signal transduction pathways as well as their contribution to the suppression of breast cancer cell growth'),\n",
       " ('Breast Cancer Cells Feed on Cholesterol',\n",
       "  'Purpose To further clarify the relationship between total cholesterol and cancer which remains unclear Methods We prospectively examined the association between total cholesterol and sitespecific and allcancer incidence among 1189719 Korean adults enrolled in the National Health Insurance Corporation who underwent a standardized biennial medical examination in 1992 to 1995 and were observed for 14 years until cancer diagnosis or death Results Over followup 53944 men and 24475 women were diagnosed with a primary cancer Compared with levels less than 160 mgdL high total cholesterol  240 mgdL was positively associated with prostate cancer hazard ratio HR 124 95 CI 107 to 144 P trend  001 and colon cancer HR 112 95 CI 100 to 125 P trend  05 in men and breast cancer in women HR 117 95 CI 103 to 133 P trend  03 Higher total cholesterol was associated with a lower incidence of liver cancer men HR 042 95 CI 038 to 045 P trend  001 women HR 032 95 CI 027 to 039 P trend  001 stomach cancer men HR 087 95 CI 082 to 093 P trend  001 women HR 086 95 CI 077 to 097 P trend  06 and in men lung cancer HR 089 95 CI 082 to 096 P trend  001 Results for liver cancer were slightly attenuated after additional adjustment for liver enzyme levels and hepatitis B surface antigen status men HR 060 P trend  001 women HR 046 P trend  003 and exclusion of the first 10 years of followup men HR 059 P trend  001 women HR 044 P trend  001 Total cholesterol was inversely associated with allcancer incidence in both men HR 084 95 CI 081 to 086 P trend  001 and women HR 091 95 CI 087 to 095 P trend  001 but these associations were attenuated after excluding incident liver cancers men HR 095 P trend  001 women HR 098 P trend  32 Conclusion In this large prospective study we found that total cholesterol was associated with the risk of several different cancers although these relationships differed markedly by cancer site'),\n",
       " ('Breast Cancer Cells Feed on Cholesterol',\n",
       "  'Breast cancer is the leading cause of cancerrelated deaths for women in the United States and the rest of the world About 8 of women develop breast cancer during the course of their lives Dietary habits are closely associated with both the risk and progression of breast cancer Dietary agents have accumulated increasing importance with regards to the prevention and treatment of breast cancer One such manner by which these compounds can target breast cancer development and progression is through interference with the angiogenic pathways Angiogenesis is an intricate process that involves the development of new capillaries from previously existing blood vessels Disruption of this pathway therefore provides a novel and effective avenue for therapeutic intervention of breast cancer Various phytochemicals found in the diet kill breast cancer cells in vitro and prevent as well as suppress breast cancer progression in various preclinical animal models This review examines the value of dietary phytoconstituents in the prevention and treatment of breast cancer through modulation of the intricate and complex process of angiogenesis In addition the potential benefits challenges and future directions of research on antiangiogenic dietary phytochemicals in the prevention and intervention of breast cancer are also addressed Copyright  2012 WILEYVCH Verlag GmbH  Co KGaA Weinheim'),\n",
       " ('Breast Cancer Cells Feed on Cholesterol',\n",
       "  'Docosahexaenoic acid DHA is an omega3 fatty acid that comprises 22 carbons and 6 alternative double bonds in its hydrocarbon chain 226omega3 Previous studies have shown that DHA from fish oil controls the growth and development of different cancers however safety issues have been raised repeatedly about contamination of toxins in fish oil that makes it no longer a clean and safe source of the fatty acid We investigated the cell growth inhibition of DHA from the cultured microalga Crypthecodinium cohnii algal DHA aDHA in human breast carcinoma MCF7 cells aDHA exhibited growth inhibition on breast cancer cells dosedependently by 160 to 590 of the control level after 72h incubations with 40 to 160 microM of the fatty acid DNA flow cytometry shows that aDHA induced subG1 cells or apoptotic cells by 644 to 1713 of the control levels after incubations with 80 mM of the fatty acid for 24 48 and 72 h Western blot studies further show that aDHA did not modulate the expression of proapoptotic Bax protein but induced the downregulation of antiapoptotic Bcl2 expression timedependently causing increases of BaxBcl2 ratio by 3034 and 3865 after 48 and 72h incubations respectively with the fatty acid Results from this study suggest that DHA from the cultured microalga is also effective in controlling cancer cell growth and that downregulation of antiapoptotic Bcl2 is an important step in the induced apoptosis'),\n",
       " ('Breast Cancer Cells Feed on Cholesterol',\n",
       "  'The specific role of dietary fat in breast cancer progression is unclear although a lowfat diet was associated with decreased recurrence of estrogen receptor alpha negative ER breast cancer ER basallike MDAMB231 and MDAMB436 breast cancer cell lines contained a greater number of cytoplasmic lipid droplets compared to luminal ER MCF7 cells Therefore we studied lipid storage functions in these cells Both triacylglycerol and cholesteryl ester CE concentrations were higher in the ER cells but the ability to synthesize CE distinguished the two types of breast cancer cells Higher baseline oleic acid and LDLstimulated CE concentrations were found in ER compared to ER cells The differences corresponded to greater mRNA and protein levels of acylCoAcholesterol acyltransferase 1 ACAT1 higher ACAT activity higher caveolin1 protein levels greater LDL uptake and lower de novo cholesterol synthesis in ER cells Human LDL stimulated proliferation of ER MDAMB231 cells but had little effect on proliferation of ER MCF7 cells The functional significance of these findings was demonstrated by the observation that the ACAT inhibitor CP113818 reduced proliferation of breast cancer cells and specifically reduced LDLinduced proliferation of ER cells Taken together our studies show that a greater ability to take up store and utilize exogenous cholesterol confers a proliferative advantage to basallike ER breast cancer cells Differences in lipid uptake and storage capability may at least partially explain the differential effect of a lowfat diet on human breast cancer recurrence'),\n",
       " ('Breast Cancer Cells Feed on Cholesterol',\n",
       "  'Breast cancer is the leading cause of cancerrelated deaths for women in the United States and the rest of the world About 8 of women develop breast cancer during the course of their lives Dietary habits are closely associated with both the risk and progression of breast cancer Dietary agents have accumulated increasing importance with regards to the prevention and treatment of breast cancer One such manner by which these compounds can target breast cancer development and progression is through interference with the angiogenic pathways Angiogenesis is an intricate process that involves the development of new capillaries from previously existing blood vessels Disruption of this pathway therefore provides a novel and effective avenue for therapeutic intervention of breast cancer Various phytochemicals found in the diet kill breast cancer cells in vitro and prevent as well as suppress breast cancer progression in various preclinical animal models This review examines the value of dietary phytoconstituents in the prevention and treatment of breast cancer through modulation of the intricate and complex process of angiogenesis In addition the potential benefits challenges and future directions of research on antiangiogenic dietary phytochemicals in the prevention and intervention of breast cancer are also addressed Copyright  2012 WILEYVCH Verlag GmbH  Co KGaA Weinheim'),\n",
       " ('Breast Cancer Cells Feed on Cholesterol',\n",
       "  'OBJECTIVE High concentrations of plasma deoxycholic acid DCA are found in human breast cyst fluid and it has been hypothesised that this may be related to risk of breast cancer The aim of this pilot study was to ascertain whether plasma bile acid concentrations were greater in women with breast cancer DESIGN A casecontrol study comparing postmenopausal women with breast cancer with healthy controls was conducted SUBJECTS Twenty Caucasian postmenopausal breast cancer patients were recruited at the time of diagnosis together with 20 healthy controls matched for age and body mass index Exclusion criteria included any treatment for breast cancer use of hormone replacement therapy in the last 12 months diabetes mellitus a history of liver or gall bladder disease or abnormal liver function MEASUREMENTS Fasting plasma bile acid concentrations were determined by gasliquid chromatographymass spectrometry RESULTS The mean plasma DCA concentration was 52 higher P0012 in patients with breast cancer compared with controls CONCLUSION These results support the hypothesis that DCA may be involved in the aetiology of breast cancer'),\n",
       " ('Breast Cancer Cells Feed on Cholesterol',\n",
       "  'Lipid raftscaveolae are membrane platforms for signaling molecules that regulate various cellular functions including cell survival To better understand the role of rafts in tumor progression and therapeutics we investigated the effect of raft disruption on cell viability and compared raft levels in human cancer cell lines versus their normal counterparts Here we report that cholesterol depletion using methylβ cyclodextrin caused anoikislike apoptosis which in A431 cells involved decreased raft levels BclxL downregulation caspase3 activation and Akt inactivation regardless of epidermal growth factor receptor activation Cholesterol repletion replenished rafts on the cell surface and restored Akt activation and cell viability Moreover the breast cancer and the prostate cancer cell lines contained more lipid rafts and were more sensitive to cholesterol depletioninduced cell death than their normal counterparts These results indicate that cancer cells contain increased levels of rafts and suggest a potential use of raftmodulating agents as anticancer drugs'),\n",
       " ('Breast Cancer Cells Feed on Cholesterol',\n",
       "  'Breast cancer is the leading cause of cancerrelated deaths in women in the United States and many other countries There is an immediate need for more effective and less toxic therapeutic and preventive strategies for many cancers especially for breast cancer Natural products are being tested with a hope of identifying novel potent molecules as anticancer agents Phytochemicals and dietary compounds have been used for the treatment of various illnesses throughout history due to their safety low toxicity and general availability Currently many active phytochemicals are in clinical trials Preclinical and clinical studies have indicated that daily consumption of dietary phytochemicals reduces the risk of several cancers Phytochemicals can inhibit delay or reverse carcinogenesis by inducing detoxifying and antioxidant enzymes by regulating inflammatoryproliferative signaling pathways and by inducing apoptosis This review article describes some of the potential natural cancer preventive compounds along with a mechanistic discussion of their interactions with key cellular signal transduction pathways as well as their contribution to the suppression of breast cancer cell growth')]"
      ]
     },
     "execution_count": 31,
     "metadata": {},
     "output_type": "execute_result"
    }
   ],
   "source": [
    "query_passage_pairs"
   ]
  },
  {
   "cell_type": "code",
   "execution_count": 32,
   "id": "15a14167",
   "metadata": {},
   "outputs": [],
   "source": [
    "tokens = ranking_tokenizer(query_passage_pairs, padding=True, truncation=True, return_tensors=\"pt\")"
   ]
  },
  {
   "cell_type": "code",
   "execution_count": 33,
   "id": "8a66bf35",
   "metadata": {},
   "outputs": [
    {
     "data": {
      "text/plain": [
       "{'input_ids': tensor([[ 101, 7388, 4456,  ...,    0,    0,    0],\n",
       "        [ 101, 7388, 4456,  ...,    0,    0,    0],\n",
       "        [ 101, 7388, 4456,  ..., 4456, 2609,  102],\n",
       "        ...,\n",
       "        [ 101, 7388, 4456,  ...,    0,    0,    0],\n",
       "        [ 101, 7388, 4456,  ...,    0,    0,    0],\n",
       "        [ 101, 7388, 4456,  ...,    0,    0,    0]]), 'token_type_ids': tensor([[0, 0, 0,  ..., 0, 0, 0],\n",
       "        [0, 0, 0,  ..., 0, 0, 0],\n",
       "        [0, 0, 0,  ..., 1, 1, 1],\n",
       "        ...,\n",
       "        [0, 0, 0,  ..., 0, 0, 0],\n",
       "        [0, 0, 0,  ..., 0, 0, 0],\n",
       "        [0, 0, 0,  ..., 0, 0, 0]]), 'attention_mask': tensor([[1, 1, 1,  ..., 0, 0, 0],\n",
       "        [1, 1, 1,  ..., 0, 0, 0],\n",
       "        [1, 1, 1,  ..., 1, 1, 1],\n",
       "        ...,\n",
       "        [1, 1, 1,  ..., 0, 0, 0],\n",
       "        [1, 1, 1,  ..., 0, 0, 0],\n",
       "        [1, 1, 1,  ..., 0, 0, 0]])}"
      ]
     },
     "execution_count": 33,
     "metadata": {},
     "output_type": "execute_result"
    }
   ],
   "source": [
    "tokens"
   ]
  },
  {
   "cell_type": "markdown",
   "id": "f00fee04",
   "metadata": {},
   "source": [
    "### calculating scores"
   ]
  },
  {
   "cell_type": "code",
   "execution_count": 34,
   "id": "aa44e048",
   "metadata": {},
   "outputs": [
    {
     "name": "stdout",
     "output_type": "stream",
     "text": [
      "tensor([ 3.5693, -6.4103, -4.0037, -4.8537, -5.5676,  3.5693, -4.8537, -8.3372,\n",
      "        -1.8037, -6.4103])\n"
     ]
    }
   ],
   "source": [
    "with torch.no_grad():\n",
    "    outputs = ranking_model(**tokens)\n",
    "    scores = outputs.logits.squeeze()\n",
    "    print(scores)"
   ]
  },
  {
   "cell_type": "code",
   "execution_count": null,
   "id": "37f13db1",
   "metadata": {},
   "outputs": [],
   "source": []
  },
  {
   "cell_type": "code",
   "execution_count": 35,
   "id": "559ce7e1",
   "metadata": {},
   "outputs": [],
   "source": [
    "sorted_indices = torch.argsort(scores, descending=True)\n",
    "sorted_passages=[]\n",
    "for i in sorted_indices:\n",
    "    sorted_passage = combined_top_k_passages[i]\n",
    "    sorted_passages.append(sorted_passage)"
   ]
  },
  {
   "cell_type": "markdown",
   "id": "46194561",
   "metadata": {},
   "source": [
    "### Top passages according to ranking model"
   ]
  },
  {
   "cell_type": "code",
   "execution_count": 36,
   "id": "f70301ef",
   "metadata": {},
   "outputs": [
    {
     "name": "stdout",
     "output_type": "stream",
     "text": [
      "The specific role of dietary fat in breast cancer progression is unclear although a lowfat diet was associated with decreased recurrence of estrogen receptor alpha negative ER breast cancer ER basallike MDAMB231 and MDAMB436 breast cancer cell lines contained a greater number of cytoplasmic lipid droplets compared to luminal ER MCF7 cells Therefore we studied lipid storage functions in these cells Both triacylglycerol and cholesteryl ester CE concentrations were higher in the ER cells but the ability to synthesize CE distinguished the two types of breast cancer cells Higher baseline oleic acid and LDLstimulated CE concentrations were found in ER compared to ER cells The differences corresponded to greater mRNA and protein levels of acylCoAcholesterol acyltransferase 1 ACAT1 higher ACAT activity higher caveolin1 protein levels greater LDL uptake and lower de novo cholesterol synthesis in ER cells Human LDL stimulated proliferation of ER MDAMB231 cells but had little effect on proliferation of ER MCF7 cells The functional significance of these findings was demonstrated by the observation that the ACAT inhibitor CP113818 reduced proliferation of breast cancer cells and specifically reduced LDLinduced proliferation of ER cells Taken together our studies show that a greater ability to take up store and utilize exogenous cholesterol confers a proliferative advantage to basallike ER breast cancer cells Differences in lipid uptake and storage capability may at least partially explain the differential effect of a lowfat diet on human breast cancer recurrence\n",
      "The specific role of dietary fat in breast cancer progression is unclear although a lowfat diet was associated with decreased recurrence of estrogen receptor alpha negative ER breast cancer ER basallike MDAMB231 and MDAMB436 breast cancer cell lines contained a greater number of cytoplasmic lipid droplets compared to luminal ER MCF7 cells Therefore we studied lipid storage functions in these cells Both triacylglycerol and cholesteryl ester CE concentrations were higher in the ER cells but the ability to synthesize CE distinguished the two types of breast cancer cells Higher baseline oleic acid and LDLstimulated CE concentrations were found in ER compared to ER cells The differences corresponded to greater mRNA and protein levels of acylCoAcholesterol acyltransferase 1 ACAT1 higher ACAT activity higher caveolin1 protein levels greater LDL uptake and lower de novo cholesterol synthesis in ER cells Human LDL stimulated proliferation of ER MDAMB231 cells but had little effect on proliferation of ER MCF7 cells The functional significance of these findings was demonstrated by the observation that the ACAT inhibitor CP113818 reduced proliferation of breast cancer cells and specifically reduced LDLinduced proliferation of ER cells Taken together our studies show that a greater ability to take up store and utilize exogenous cholesterol confers a proliferative advantage to basallike ER breast cancer cells Differences in lipid uptake and storage capability may at least partially explain the differential effect of a lowfat diet on human breast cancer recurrence\n",
      "Lipid raftscaveolae are membrane platforms for signaling molecules that regulate various cellular functions including cell survival To better understand the role of rafts in tumor progression and therapeutics we investigated the effect of raft disruption on cell viability and compared raft levels in human cancer cell lines versus their normal counterparts Here we report that cholesterol depletion using methylβ cyclodextrin caused anoikislike apoptosis which in A431 cells involved decreased raft levels BclxL downregulation caspase3 activation and Akt inactivation regardless of epidermal growth factor receptor activation Cholesterol repletion replenished rafts on the cell surface and restored Akt activation and cell viability Moreover the breast cancer and the prostate cancer cell lines contained more lipid rafts and were more sensitive to cholesterol depletioninduced cell death than their normal counterparts These results indicate that cancer cells contain increased levels of rafts and suggest a potential use of raftmodulating agents as anticancer drugs\n",
      "Purpose To further clarify the relationship between total cholesterol and cancer which remains unclear Methods We prospectively examined the association between total cholesterol and sitespecific and allcancer incidence among 1189719 Korean adults enrolled in the National Health Insurance Corporation who underwent a standardized biennial medical examination in 1992 to 1995 and were observed for 14 years until cancer diagnosis or death Results Over followup 53944 men and 24475 women were diagnosed with a primary cancer Compared with levels less than 160 mgdL high total cholesterol  240 mgdL was positively associated with prostate cancer hazard ratio HR 124 95 CI 107 to 144 P trend  001 and colon cancer HR 112 95 CI 100 to 125 P trend  05 in men and breast cancer in women HR 117 95 CI 103 to 133 P trend  03 Higher total cholesterol was associated with a lower incidence of liver cancer men HR 042 95 CI 038 to 045 P trend  001 women HR 032 95 CI 027 to 039 P trend  001 stomach cancer men HR 087 95 CI 082 to 093 P trend  001 women HR 086 95 CI 077 to 097 P trend  06 and in men lung cancer HR 089 95 CI 082 to 096 P trend  001 Results for liver cancer were slightly attenuated after additional adjustment for liver enzyme levels and hepatitis B surface antigen status men HR 060 P trend  001 women HR 046 P trend  003 and exclusion of the first 10 years of followup men HR 059 P trend  001 women HR 044 P trend  001 Total cholesterol was inversely associated with allcancer incidence in both men HR 084 95 CI 081 to 086 P trend  001 and women HR 091 95 CI 087 to 095 P trend  001 but these associations were attenuated after excluding incident liver cancers men HR 095 P trend  001 women HR 098 P trend  32 Conclusion In this large prospective study we found that total cholesterol was associated with the risk of several different cancers although these relationships differed markedly by cancer site\n",
      "Breast cancer is the leading cause of cancerrelated deaths for women in the United States and the rest of the world About 8 of women develop breast cancer during the course of their lives Dietary habits are closely associated with both the risk and progression of breast cancer Dietary agents have accumulated increasing importance with regards to the prevention and treatment of breast cancer One such manner by which these compounds can target breast cancer development and progression is through interference with the angiogenic pathways Angiogenesis is an intricate process that involves the development of new capillaries from previously existing blood vessels Disruption of this pathway therefore provides a novel and effective avenue for therapeutic intervention of breast cancer Various phytochemicals found in the diet kill breast cancer cells in vitro and prevent as well as suppress breast cancer progression in various preclinical animal models This review examines the value of dietary phytoconstituents in the prevention and treatment of breast cancer through modulation of the intricate and complex process of angiogenesis In addition the potential benefits challenges and future directions of research on antiangiogenic dietary phytochemicals in the prevention and intervention of breast cancer are also addressed Copyright  2012 WILEYVCH Verlag GmbH  Co KGaA Weinheim\n",
      "Breast cancer is the leading cause of cancerrelated deaths for women in the United States and the rest of the world About 8 of women develop breast cancer during the course of their lives Dietary habits are closely associated with both the risk and progression of breast cancer Dietary agents have accumulated increasing importance with regards to the prevention and treatment of breast cancer One such manner by which these compounds can target breast cancer development and progression is through interference with the angiogenic pathways Angiogenesis is an intricate process that involves the development of new capillaries from previously existing blood vessels Disruption of this pathway therefore provides a novel and effective avenue for therapeutic intervention of breast cancer Various phytochemicals found in the diet kill breast cancer cells in vitro and prevent as well as suppress breast cancer progression in various preclinical animal models This review examines the value of dietary phytoconstituents in the prevention and treatment of breast cancer through modulation of the intricate and complex process of angiogenesis In addition the potential benefits challenges and future directions of research on antiangiogenic dietary phytochemicals in the prevention and intervention of breast cancer are also addressed Copyright  2012 WILEYVCH Verlag GmbH  Co KGaA Weinheim\n",
      "Docosahexaenoic acid DHA is an omega3 fatty acid that comprises 22 carbons and 6 alternative double bonds in its hydrocarbon chain 226omega3 Previous studies have shown that DHA from fish oil controls the growth and development of different cancers however safety issues have been raised repeatedly about contamination of toxins in fish oil that makes it no longer a clean and safe source of the fatty acid We investigated the cell growth inhibition of DHA from the cultured microalga Crypthecodinium cohnii algal DHA aDHA in human breast carcinoma MCF7 cells aDHA exhibited growth inhibition on breast cancer cells dosedependently by 160 to 590 of the control level after 72h incubations with 40 to 160 microM of the fatty acid DNA flow cytometry shows that aDHA induced subG1 cells or apoptotic cells by 644 to 1713 of the control levels after incubations with 80 mM of the fatty acid for 24 48 and 72 h Western blot studies further show that aDHA did not modulate the expression of proapoptotic Bax protein but induced the downregulation of antiapoptotic Bcl2 expression timedependently causing increases of BaxBcl2 ratio by 3034 and 3865 after 48 and 72h incubations respectively with the fatty acid Results from this study suggest that DHA from the cultured microalga is also effective in controlling cancer cell growth and that downregulation of antiapoptotic Bcl2 is an important step in the induced apoptosis\n",
      "Breast cancer is the leading cause of cancerrelated deaths in women in the United States and many other countries There is an immediate need for more effective and less toxic therapeutic and preventive strategies for many cancers especially for breast cancer Natural products are being tested with a hope of identifying novel potent molecules as anticancer agents Phytochemicals and dietary compounds have been used for the treatment of various illnesses throughout history due to their safety low toxicity and general availability Currently many active phytochemicals are in clinical trials Preclinical and clinical studies have indicated that daily consumption of dietary phytochemicals reduces the risk of several cancers Phytochemicals can inhibit delay or reverse carcinogenesis by inducing detoxifying and antioxidant enzymes by regulating inflammatoryproliferative signaling pathways and by inducing apoptosis This review article describes some of the potential natural cancer preventive compounds along with a mechanistic discussion of their interactions with key cellular signal transduction pathways as well as their contribution to the suppression of breast cancer cell growth\n",
      "Breast cancer is the leading cause of cancerrelated deaths in women in the United States and many other countries There is an immediate need for more effective and less toxic therapeutic and preventive strategies for many cancers especially for breast cancer Natural products are being tested with a hope of identifying novel potent molecules as anticancer agents Phytochemicals and dietary compounds have been used for the treatment of various illnesses throughout history due to their safety low toxicity and general availability Currently many active phytochemicals are in clinical trials Preclinical and clinical studies have indicated that daily consumption of dietary phytochemicals reduces the risk of several cancers Phytochemicals can inhibit delay or reverse carcinogenesis by inducing detoxifying and antioxidant enzymes by regulating inflammatoryproliferative signaling pathways and by inducing apoptosis This review article describes some of the potential natural cancer preventive compounds along with a mechanistic discussion of their interactions with key cellular signal transduction pathways as well as their contribution to the suppression of breast cancer cell growth\n",
      "OBJECTIVE High concentrations of plasma deoxycholic acid DCA are found in human breast cyst fluid and it has been hypothesised that this may be related to risk of breast cancer The aim of this pilot study was to ascertain whether plasma bile acid concentrations were greater in women with breast cancer DESIGN A casecontrol study comparing postmenopausal women with breast cancer with healthy controls was conducted SUBJECTS Twenty Caucasian postmenopausal breast cancer patients were recruited at the time of diagnosis together with 20 healthy controls matched for age and body mass index Exclusion criteria included any treatment for breast cancer use of hormone replacement therapy in the last 12 months diabetes mellitus a history of liver or gall bladder disease or abnormal liver function MEASUREMENTS Fasting plasma bile acid concentrations were determined by gasliquid chromatographymass spectrometry RESULTS The mean plasma DCA concentration was 52 higher P0012 in patients with breast cancer compared with controls CONCLUSION These results support the hypothesis that DCA may be involved in the aetiology of breast cancer\n"
     ]
    }
   ],
   "source": [
    "for passage in sorted_passages:\n",
    "    print(passage)"
   ]
  },
  {
   "cell_type": "code",
   "execution_count": 38,
   "id": "75d4ca13",
   "metadata": {},
   "outputs": [
    {
     "data": {
      "text/plain": [
       "tensor([ 3.5693, -6.4103, -4.0037, -4.8537, -5.5676,  3.5693, -4.8537, -8.3372,\n",
       "        -1.8037, -6.4103])"
      ]
     },
     "execution_count": 38,
     "metadata": {},
     "output_type": "execute_result"
    }
   ],
   "source": [
    "scores"
   ]
  },
  {
   "cell_type": "code",
   "execution_count": 41,
   "id": "6041d155",
   "metadata": {},
   "outputs": [],
   "source": [
    "import numpy as np"
   ]
  },
  {
   "cell_type": "code",
   "execution_count": 42,
   "id": "d26dced9",
   "metadata": {},
   "outputs": [],
   "source": [
    "def dcg_at_k(scores, k):\n",
    "    \"\"\"Compute DCG at rank k\"\"\"\n",
    "    relevance_scores = np.array(scores)[:k]\n",
    "    return np.sum(scores / np.log2(np.arange(2, scores.size + 2)))"
   ]
  },
  {
   "cell_type": "code",
   "execution_count": null,
   "id": "3a125d65",
   "metadata": {},
   "outputs": [],
   "source": []
  }
 ],
 "metadata": {
  "kernelspec": {
   "display_name": "Python 3 (ipykernel)",
   "language": "python",
   "name": "python3"
  },
  "language_info": {
   "codemirror_mode": {
    "name": "ipython",
    "version": 3
   },
   "file_extension": ".py",
   "mimetype": "text/x-python",
   "name": "python",
   "nbconvert_exporter": "python",
   "pygments_lexer": "ipython3",
   "version": "3.10.4"
  }
 },
 "nbformat": 4,
 "nbformat_minor": 5
}
